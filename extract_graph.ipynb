{
 "cells": [
  {
   "cell_type": "markdown",
   "metadata": {},
   "source": [
    "## Setup"
   ]
  },
  {
   "cell_type": "code",
   "execution_count": null,
   "metadata": {},
   "outputs": [],
   "source": [
    "!pip install langchain"
   ]
  },
  {
   "cell_type": "code",
   "execution_count": null,
   "metadata": {},
   "outputs": [],
   "source": [
    "!pip install -U langchain-community"
   ]
  },
  {
   "cell_type": "code",
   "execution_count": null,
   "metadata": {},
   "outputs": [],
   "source": [
    "!pip install unstructured"
   ]
  },
  {
   "cell_type": "code",
   "execution_count": null,
   "metadata": {},
   "outputs": [],
   "source": [
    "!pip install libmagic"
   ]
  },
  {
   "cell_type": "code",
   "execution_count": null,
   "metadata": {},
   "outputs": [],
   "source": [
    "!pip install unstructured[pdf]"
   ]
  },
  {
   "cell_type": "code",
   "execution_count": 2,
   "metadata": {},
   "outputs": [],
   "source": [
    "import pandas as pd\n",
    "import numpy as np\n",
    "import os\n",
    "from langchain.document_loaders import PyPDFLoader, UnstructuredPDFLoader, PyPDFium2Loader\n",
    "from langchain.document_loaders import PyPDFDirectoryLoader, DirectoryLoader\n",
    "from langchain.text_splitter import RecursiveCharacterTextSplitter\n",
    "from pathlib import Path\n",
    "import random\n",
    "\n",
    "## Input data directory\n",
    "# data_dir = \"cureus\"\n",
    "data_dir = \"hamas-economist\"\n",
    "inputdirectory = Path(f\"./data_input/{data_dir}\")\n",
    "## This is where the output csv files will be written\n",
    "out_dir = data_dir\n",
    "outputdirectory = Path(f\"./data_output/{out_dir}\")"
   ]
  },
  {
   "cell_type": "markdown",
   "metadata": {},
   "source": [
    "## Load Documents"
   ]
  },
  {
   "cell_type": "code",
   "execution_count": 5,
   "metadata": {},
   "outputs": [
    {
     "name": "stderr",
     "output_type": "stream",
     "text": [
      "  0%|          | 0/1 [00:00<?, ?it/s]libmagic is unavailable but assists in filetype detection. Please consider installing libmagic for better results.\n",
      "100%|██████████| 1/1 [00:00<00:00, 54.35it/s]"
     ]
    },
    {
     "name": "stdout",
     "output_type": "stream",
     "text": [
      "Number of chunks =  6\n",
      "So far Hamas seems financially bulletproof. Israel has managed to inflict little harm on either its income or its savings; Turkey’s banks have been unco-operative. America’s numerous sanctions are less effective if their targets can keep cash outside its banking system. And Hamas hides its companies well. “Every time you think you’ve got a big fish, it changes its name,” despairs one ex-Treasury official.\n",
      "\n",
      "In fact, the risk is that Hamas’s finances will improve. As Israel steps up its attacks on Gaza, countries with pro-Palestinian populations may make life even easier for Hamas’s bankers. For months rumours have circulated that some civil servants in Mr Erdogan’s economic ministry are co-ordinating with Hamas’s finance office.\n",
      "\n",
      "For Israel, the prospect of Hamas growing richer despite the war would be a bitter failure. With its wealth and financial roots intact, Hamas—or a similar organisation—might re-emerge and flourish anew from the destruction. While Gazans have been plunged into tragedy, Hamas’s money is safely ensconced elsewhere—and its financiers can eat lobster as they gaze across the Bosporus.\n"
     ]
    },
    {
     "name": "stderr",
     "output_type": "stream",
     "text": [
      "\n"
     ]
    }
   ],
   "source": [
    "## Dir PDF Loader\n",
    "# loader = PyPDFDirectoryLoader(inputdirectory)\n",
    "## File Loader\n",
    "# loader = PyPDFLoader(\"./data/MedicalDocuments/orf-path_health-n1.pdf\")\n",
    "loader = DirectoryLoader(inputdirectory, show_progress=True)\n",
    "documents = loader.load()\n",
    "\n",
    "splitter = RecursiveCharacterTextSplitter(\n",
    "    chunk_size=1500,\n",
    "    chunk_overlap=150,\n",
    "    length_function=len,\n",
    "    is_separator_regex=False,\n",
    ")\n",
    "\n",
    "pages = splitter.split_documents(documents)\n",
    "print(\"Number of chunks = \", len(pages))\n",
    "print(pages[5].page_content)\n"
   ]
  },
  {
   "cell_type": "markdown",
   "metadata": {},
   "source": [
    "## Create a dataframe of all the chunks"
   ]
  },
  {
   "cell_type": "code",
   "execution_count": null,
   "metadata": {},
   "outputs": [],
   "source": [
    "!pip install yachalk"
   ]
  },
  {
   "cell_type": "code",
   "execution_count": 6,
   "metadata": {},
   "outputs": [
    {
     "name": "stdout",
     "output_type": "stream",
     "text": [
      "(6, 3)\n"
     ]
    },
    {
     "data": {
      "text/html": [
       "<div>\n",
       "<style scoped>\n",
       "    .dataframe tbody tr th:only-of-type {\n",
       "        vertical-align: middle;\n",
       "    }\n",
       "\n",
       "    .dataframe tbody tr th {\n",
       "        vertical-align: top;\n",
       "    }\n",
       "\n",
       "    .dataframe thead th {\n",
       "        text-align: right;\n",
       "    }\n",
       "</style>\n",
       "<table border=\"1\" class=\"dataframe\">\n",
       "  <thead>\n",
       "    <tr style=\"text-align: right;\">\n",
       "      <th></th>\n",
       "      <th>text</th>\n",
       "      <th>source</th>\n",
       "      <th>chunk_id</th>\n",
       "    </tr>\n",
       "  </thead>\n",
       "  <tbody>\n",
       "    <tr>\n",
       "      <th>0</th>\n",
       "      <td>Inside Hamas’s sprawling financial empire\\n\\nW...</td>\n",
       "      <td>data_input\\hamas-economist\\hamas-economist.txt</td>\n",
       "      <td>760165da660e4cb6919f696042512ac2</td>\n",
       "    </tr>\n",
       "    <tr>\n",
       "      <th>1</th>\n",
       "      <td>Hamas’s income pays for everything from school...</td>\n",
       "      <td>data_input\\hamas-economist\\hamas-economist.txt</td>\n",
       "      <td>22b259079a794da2961bfc6ba85aab7b</td>\n",
       "    </tr>\n",
       "    <tr>\n",
       "      <th>2</th>\n",
       "      <td>Dodging American sanctions requires some ingen...</td>\n",
       "      <td>data_input\\hamas-economist\\hamas-economist.txt</td>\n",
       "      <td>1f830bf583c64d58bd16743a06aaee08</td>\n",
       "    </tr>\n",
       "    <tr>\n",
       "      <th>3</th>\n",
       "      <td>Can the revenue streams still flowing to Hamas...</td>\n",
       "      <td>data_input\\hamas-economist\\hamas-economist.txt</td>\n",
       "      <td>2c5914d3324f414bbc913e65864a803b</td>\n",
       "    </tr>\n",
       "    <tr>\n",
       "      <th>4</th>\n",
       "      <td>Meanwhile, Turkey’s banking system helps Hamas...</td>\n",
       "      <td>data_input\\hamas-economist\\hamas-economist.txt</td>\n",
       "      <td>c287c746668948718a578bab547e4c85</td>\n",
       "    </tr>\n",
       "  </tbody>\n",
       "</table>\n",
       "</div>"
      ],
      "text/plain": [
       "                                                text  \\\n",
       "0  Inside Hamas’s sprawling financial empire\\n\\nW...   \n",
       "1  Hamas’s income pays for everything from school...   \n",
       "2  Dodging American sanctions requires some ingen...   \n",
       "3  Can the revenue streams still flowing to Hamas...   \n",
       "4  Meanwhile, Turkey’s banking system helps Hamas...   \n",
       "\n",
       "                                           source  \\\n",
       "0  data_input\\hamas-economist\\hamas-economist.txt   \n",
       "1  data_input\\hamas-economist\\hamas-economist.txt   \n",
       "2  data_input\\hamas-economist\\hamas-economist.txt   \n",
       "3  data_input\\hamas-economist\\hamas-economist.txt   \n",
       "4  data_input\\hamas-economist\\hamas-economist.txt   \n",
       "\n",
       "                           chunk_id  \n",
       "0  760165da660e4cb6919f696042512ac2  \n",
       "1  22b259079a794da2961bfc6ba85aab7b  \n",
       "2  1f830bf583c64d58bd16743a06aaee08  \n",
       "3  2c5914d3324f414bbc913e65864a803b  \n",
       "4  c287c746668948718a578bab547e4c85  "
      ]
     },
     "execution_count": 6,
     "metadata": {},
     "output_type": "execute_result"
    }
   ],
   "source": [
    "from helpers.df_helpers import documents2Dataframe\n",
    "df = documents2Dataframe(pages)\n",
    "print(df.shape)\n",
    "df.head()"
   ]
  },
  {
   "cell_type": "markdown",
   "metadata": {},
   "source": [
    "## Extract Concepts"
   ]
  },
  {
   "cell_type": "code",
   "execution_count": 7,
   "metadata": {},
   "outputs": [],
   "source": [
    "## This function uses the helpers/prompt function to extract concepts from text\n",
    "from helpers.df_helpers import df2Graph\n",
    "from helpers.df_helpers import graph2Df"
   ]
  },
  {
   "cell_type": "markdown",
   "metadata": {},
   "source": [
    "If regenerate is set to True then the dataframes are regenerated and Both the dataframes are written in the csv format so we dont have to calculate them again. \n",
    "\n",
    "        dfne = dataframe of edges\n",
    "\n",
    "        df = dataframe of chunks\n",
    "\n",
    "\n",
    "Else the dataframes are read from the output directory"
   ]
  },
  {
   "cell_type": "code",
   "execution_count": 8,
   "metadata": {},
   "outputs": [
    {
     "name": "stdout",
     "output_type": "stream",
     "text": [
      "(104, 5)\n"
     ]
    },
    {
     "data": {
      "text/html": [
       "<div>\n",
       "<style scoped>\n",
       "    .dataframe tbody tr th:only-of-type {\n",
       "        vertical-align: middle;\n",
       "    }\n",
       "\n",
       "    .dataframe tbody tr th {\n",
       "        vertical-align: top;\n",
       "    }\n",
       "\n",
       "    .dataframe thead th {\n",
       "        text-align: right;\n",
       "    }\n",
       "</style>\n",
       "<table border=\"1\" class=\"dataframe\">\n",
       "  <thead>\n",
       "    <tr style=\"text-align: right;\">\n",
       "      <th></th>\n",
       "      <th>node_1</th>\n",
       "      <th>node_2</th>\n",
       "      <th>edge</th>\n",
       "      <th>chunk_id</th>\n",
       "      <th>count</th>\n",
       "    </tr>\n",
       "  </thead>\n",
       "  <tbody>\n",
       "    <tr>\n",
       "      <th>0</th>\n",
       "      <td>hamas</td>\n",
       "      <td>financial empire</td>\n",
       "      <td>Hamas has a sprawling financial empire that su...</td>\n",
       "      <td>760165da660e4cb6919f696042512ac2</td>\n",
       "      <td>4</td>\n",
       "    </tr>\n",
       "    <tr>\n",
       "      <th>1</th>\n",
       "      <td>israel</td>\n",
       "      <td>hamas's finances</td>\n",
       "      <td>Israel is powerless to dismantle Hamas's finan...</td>\n",
       "      <td>760165da660e4cb6919f696042512ac2</td>\n",
       "      <td>4</td>\n",
       "    </tr>\n",
       "    <tr>\n",
       "      <th>2</th>\n",
       "      <td>istanbul</td>\n",
       "      <td>bosporus</td>\n",
       "      <td>The Bosporus is viewed from Istanbul’s glitzie...</td>\n",
       "      <td>760165da660e4cb6919f696042512ac2</td>\n",
       "      <td>4</td>\n",
       "    </tr>\n",
       "    <tr>\n",
       "      <th>3</th>\n",
       "      <td>hamas's financiers</td>\n",
       "      <td>istanbul restaurants</td>\n",
       "      <td>Hamas’s financiers frequent some of Istanbul’s...</td>\n",
       "      <td>760165da660e4cb6919f696042512ac2</td>\n",
       "      <td>4</td>\n",
       "    </tr>\n",
       "    <tr>\n",
       "      <th>4</th>\n",
       "      <td>america</td>\n",
       "      <td>man</td>\n",
       "      <td>America has imposed sanctions on a man for fun...</td>\n",
       "      <td>760165da660e4cb6919f696042512ac2</td>\n",
       "      <td>4</td>\n",
       "    </tr>\n",
       "  </tbody>\n",
       "</table>\n",
       "</div>"
      ],
      "text/plain": [
       "               node_1                node_2  \\\n",
       "0               hamas      financial empire   \n",
       "1              israel      hamas's finances   \n",
       "2            istanbul              bosporus   \n",
       "3  hamas's financiers  istanbul restaurants   \n",
       "4             america                   man   \n",
       "\n",
       "                                                edge  \\\n",
       "0  Hamas has a sprawling financial empire that su...   \n",
       "1  Israel is powerless to dismantle Hamas's finan...   \n",
       "2  The Bosporus is viewed from Istanbul’s glitzie...   \n",
       "3  Hamas’s financiers frequent some of Istanbul’s...   \n",
       "4  America has imposed sanctions on a man for fun...   \n",
       "\n",
       "                           chunk_id  count  \n",
       "0  760165da660e4cb6919f696042512ac2      4  \n",
       "1  760165da660e4cb6919f696042512ac2      4  \n",
       "2  760165da660e4cb6919f696042512ac2      4  \n",
       "3  760165da660e4cb6919f696042512ac2      4  \n",
       "4  760165da660e4cb6919f696042512ac2      4  "
      ]
     },
     "execution_count": 8,
     "metadata": {},
     "output_type": "execute_result"
    }
   ],
   "source": [
    "## To regenerate the graph with LLM, set this to True\n",
    "regenerate = True\n",
    "\n",
    "if regenerate:\n",
    "    concepts_list = df2Graph(df, model='gpt-4.1-mini')\n",
    "    dfg1 = graph2Df(concepts_list)\n",
    "    if not os.path.exists(outputdirectory):\n",
    "        os.makedirs(outputdirectory)\n",
    "    \n",
    "    dfg1.to_csv(outputdirectory/\"graph_IP.csv\", sep=\"|\", index=False)\n",
    "    df.to_csv(outputdirectory/\"chunks_IP.csv\", sep=\"|\", index=False)\n",
    "else:\n",
    "    dfg1 = pd.read_csv(outputdirectory/\"graph_IP.csv\", sep=\"|\")\n",
    "\n",
    "dfg1.replace(\"\", np.nan, inplace=True)\n",
    "dfg1.dropna(subset=[\"node_1\", \"node_2\", 'edge'], inplace=True)\n",
    "dfg1['count'] = 4 \n",
    "## Increasing the weight of the relation to 4. \n",
    "## We will assign the weight of 1 when later the contextual proximity will be calculated.  \n",
    "print(dfg1.shape)\n",
    "dfg1.head()"
   ]
  },
  {
   "cell_type": "markdown",
   "metadata": {},
   "source": [
    "## Calculating contextual proximity"
   ]
  },
  {
   "cell_type": "code",
   "execution_count": null,
   "metadata": {},
   "outputs": [],
   "source": [
    "def contextual_proximity(df: pd.DataFrame) -> pd.DataFrame:\n",
    "    ## Melt the dataframe into a list of nodes\n",
    "    dfg_long = pd.melt(\n",
    "        df, id_vars=[\"chunk_id\"], value_vars=[\"node_1\", \"node_2\"], value_name=\"node\"\n",
    "    )\n",
    "    dfg_long.drop(columns=[\"variable\"], inplace=True)\n",
    "    # Self join with chunk id as the key will create a link between terms occuring in the same text chunk.\n",
    "    dfg_wide = pd.merge(dfg_long, dfg_long, on=\"chunk_id\", suffixes=(\"_1\", \"_2\"))\n",
    "    # drop self loops\n",
    "    self_loops_drop = dfg_wide[dfg_wide[\"node_1\"] == dfg_wide[\"node_2\"]].index\n",
    "    dfg2 = dfg_wide.drop(index=self_loops_drop).reset_index(drop=True)\n",
    "    ## Group and count edges.\n",
    "    dfg2 = (\n",
    "        dfg2.groupby([\"node_1\", \"node_2\"])\n",
    "        .agg({\"chunk_id\": [\",\".join, \"count\"]})\n",
    "        .reset_index()\n",
    "    )\n",
    "    dfg2.columns = [\"node_1\", \"node_2\", \"chunk_id\", \"count\"]\n",
    "    dfg2.replace(\"\", np.nan, inplace=True)\n",
    "    dfg2.dropna(subset=[\"node_1\", \"node_2\"], inplace=True)\n",
    "    # Drop edges with 1 count\n",
    "    dfg2 = dfg2[dfg2[\"count\"] != 1]\n",
    "    dfg2[\"edge\"] = \"contextual proximity\"\n",
    "    return dfg2\n",
    "\n",
    "\n",
    "dfg2 = contextual_proximity(dfg1)\n",
    "dfg2.tail()\n",
    "dfg2.to_csv('context_prox_df_IP.csv', index=False)"
   ]
  },
  {
   "cell_type": "code",
   "execution_count": 10,
   "metadata": {},
   "outputs": [
    {
     "name": "stdout",
     "output_type": "stream",
     "text": [
      "                       node_1                    node_2  \\\n",
      "1544                    hamas                    israel   \n",
      "2410                   israel                     hamas   \n",
      "1498                    hamas                 companies   \n",
      "740                 companies                     hamas   \n",
      "1573                    hamas                     redin   \n",
      "3333                    redin                     hamas   \n",
      "1173                    firms                     hamas   \n",
      "1513                    hamas                     firms   \n",
      "1529                    hamas  hamas's financial empire   \n",
      "3773  turkey's banking system                     hamas   \n",
      "\n",
      "                                               chunk_id  count  \\\n",
      "1544  760165da660e4cb6919f696042512ac2,760165da660e4...     31   \n",
      "2410  760165da660e4cb6919f696042512ac2,760165da660e4...     31   \n",
      "1498  1f830bf583c64d58bd16743a06aaee08,1f830bf583c64...     19   \n",
      "740   1f830bf583c64d58bd16743a06aaee08,1f830bf583c64...     19   \n",
      "1573  1f830bf583c64d58bd16743a06aaee08,1f830bf583c64...     14   \n",
      "3333  1f830bf583c64d58bd16743a06aaee08,1f830bf583c64...     14   \n",
      "1173  1f830bf583c64d58bd16743a06aaee08,1f830bf583c64...     14   \n",
      "1513  1f830bf583c64d58bd16743a06aaee08,1f830bf583c64...     14   \n",
      "1529  760165da660e4cb6919f696042512ac2,760165da660e4...     12   \n",
      "3773  c287c746668948718a578bab547e4c85,c287c74666894...     12   \n",
      "\n",
      "                      edge  \n",
      "1544  contextual proximity  \n",
      "2410  contextual proximity  \n",
      "1498  contextual proximity  \n",
      "740   contextual proximity  \n",
      "1573  contextual proximity  \n",
      "3333  contextual proximity  \n",
      "1173  contextual proximity  \n",
      "1513  contextual proximity  \n",
      "1529  contextual proximity  \n",
      "3773  contextual proximity  \n"
     ]
    }
   ],
   "source": [
    "import pandas as pd\n",
    "\n",
    "top_10 = dfg2.sort_values(by=\"count\", ascending=False).head(10)\n",
    "\n",
    "print(top_10)"
   ]
  },
  {
   "cell_type": "code",
   "execution_count": 12,
   "metadata": {},
   "outputs": [
    {
     "name": "stdout",
     "output_type": "stream",
     "text": [
      "                       node_1                    node_2  count\n",
      "1544                    hamas                    israel     31\n",
      "2410                   israel                     hamas     31\n",
      "1498                    hamas                 companies     19\n",
      "740                 companies                     hamas     19\n",
      "1573                    hamas                     redin     14\n",
      "3333                    redin                     hamas     14\n",
      "1173                    firms                     hamas     14\n",
      "1513                    hamas                     firms     14\n",
      "1529                    hamas  hamas's financial empire     12\n",
      "3773  turkey's banking system                     hamas     12\n"
     ]
    }
   ],
   "source": [
    "print(top_10[['node_1', 'node_2', 'count']])\n"
   ]
  },
  {
   "cell_type": "markdown",
   "metadata": {},
   "source": [
    "### Merge both the dataframes"
   ]
  },
  {
   "cell_type": "code",
   "execution_count": 13,
   "metadata": {},
   "outputs": [
    {
     "data": {
      "text/html": [
       "<div>\n",
       "<style scoped>\n",
       "    .dataframe tbody tr th:only-of-type {\n",
       "        vertical-align: middle;\n",
       "    }\n",
       "\n",
       "    .dataframe tbody tr th {\n",
       "        vertical-align: top;\n",
       "    }\n",
       "\n",
       "    .dataframe thead th {\n",
       "        text-align: right;\n",
       "    }\n",
       "</style>\n",
       "<table border=\"1\" class=\"dataframe\">\n",
       "  <thead>\n",
       "    <tr style=\"text-align: right;\">\n",
       "      <th></th>\n",
       "      <th>node_1</th>\n",
       "      <th>node_2</th>\n",
       "      <th>chunk_id</th>\n",
       "      <th>edge</th>\n",
       "      <th>count</th>\n",
       "    </tr>\n",
       "  </thead>\n",
       "  <tbody>\n",
       "    <tr>\n",
       "      <th>0</th>\n",
       "      <td>$100m a year</td>\n",
       "      <td>american officials</td>\n",
       "      <td>22b259079a794da2961bfc6ba85aab7b,22b259079a794...</td>\n",
       "      <td>contextual proximity</td>\n",
       "      <td>2</td>\n",
       "    </tr>\n",
       "    <tr>\n",
       "      <th>1</th>\n",
       "      <td>$100m a year</td>\n",
       "      <td>goods</td>\n",
       "      <td>22b259079a794da2961bfc6ba85aab7b,22b259079a794...</td>\n",
       "      <td>contextual proximity</td>\n",
       "      <td>2</td>\n",
       "    </tr>\n",
       "    <tr>\n",
       "      <th>2</th>\n",
       "      <td>$100m a year</td>\n",
       "      <td>hamas's income</td>\n",
       "      <td>22b259079a794da2961bfc6ba85aab7b,22b259079a794...</td>\n",
       "      <td>contextual proximity</td>\n",
       "      <td>2</td>\n",
       "    </tr>\n",
       "    <tr>\n",
       "      <th>3</th>\n",
       "      <td>$100m a year</td>\n",
       "      <td>import taxes</td>\n",
       "      <td>22b259079a794da2961bfc6ba85aab7b,22b259079a794...</td>\n",
       "      <td>contextual proximity</td>\n",
       "      <td>2</td>\n",
       "    </tr>\n",
       "    <tr>\n",
       "      <th>4</th>\n",
       "      <td>$100m a year</td>\n",
       "      <td>israel</td>\n",
       "      <td>22b259079a794da2961bfc6ba85aab7b,22b259079a794...</td>\n",
       "      <td>contextual proximity</td>\n",
       "      <td>3</td>\n",
       "    </tr>\n",
       "    <tr>\n",
       "      <th>...</th>\n",
       "      <td>...</td>\n",
       "      <td>...</td>\n",
       "      <td>...</td>\n",
       "      <td>...</td>\n",
       "      <td>...</td>\n",
       "    </tr>\n",
       "    <tr>\n",
       "      <th>1369</th>\n",
       "      <td>zaher jabarin</td>\n",
       "      <td>recep tayyip erdogan</td>\n",
       "      <td>2c5914d3324f414bbc913e65864a803b,2c5914d3324f4...</td>\n",
       "      <td>contextual proximity</td>\n",
       "      <td>6</td>\n",
       "    </tr>\n",
       "    <tr>\n",
       "      <th>1370</th>\n",
       "      <td>zaher jabarin</td>\n",
       "      <td>revenue streams</td>\n",
       "      <td>2c5914d3324f414bbc913e65864a803b,2c5914d3324f4...</td>\n",
       "      <td>contextual proximity</td>\n",
       "      <td>4</td>\n",
       "    </tr>\n",
       "    <tr>\n",
       "      <th>1371</th>\n",
       "      <td>zaher jabarin</td>\n",
       "      <td>shelter</td>\n",
       "      <td>2c5914d3324f414bbc913e65864a803b,2c5914d3324f4...</td>\n",
       "      <td>contextual proximity</td>\n",
       "      <td>2</td>\n",
       "    </tr>\n",
       "    <tr>\n",
       "      <th>1372</th>\n",
       "      <td>zaher jabarin</td>\n",
       "      <td>turkey</td>\n",
       "      <td>2c5914d3324f414bbc913e65864a803b,2c5914d3324f4...</td>\n",
       "      <td>contextual proximity</td>\n",
       "      <td>2</td>\n",
       "    </tr>\n",
       "    <tr>\n",
       "      <th>1373</th>\n",
       "      <td>zaher jabarin</td>\n",
       "      <td>turkish government</td>\n",
       "      <td>2c5914d3324f414bbc913e65864a803b,2c5914d3324f4...</td>\n",
       "      <td>contextual proximity</td>\n",
       "      <td>6</td>\n",
       "    </tr>\n",
       "  </tbody>\n",
       "</table>\n",
       "<p>1374 rows × 5 columns</p>\n",
       "</div>"
      ],
      "text/plain": [
       "             node_1                node_2  \\\n",
       "0      $100m a year    american officials   \n",
       "1      $100m a year                 goods   \n",
       "2      $100m a year        hamas's income   \n",
       "3      $100m a year          import taxes   \n",
       "4      $100m a year                israel   \n",
       "...             ...                   ...   \n",
       "1369  zaher jabarin  recep tayyip erdogan   \n",
       "1370  zaher jabarin       revenue streams   \n",
       "1371  zaher jabarin               shelter   \n",
       "1372  zaher jabarin                turkey   \n",
       "1373  zaher jabarin    turkish government   \n",
       "\n",
       "                                               chunk_id                  edge  \\\n",
       "0     22b259079a794da2961bfc6ba85aab7b,22b259079a794...  contextual proximity   \n",
       "1     22b259079a794da2961bfc6ba85aab7b,22b259079a794...  contextual proximity   \n",
       "2     22b259079a794da2961bfc6ba85aab7b,22b259079a794...  contextual proximity   \n",
       "3     22b259079a794da2961bfc6ba85aab7b,22b259079a794...  contextual proximity   \n",
       "4     22b259079a794da2961bfc6ba85aab7b,22b259079a794...  contextual proximity   \n",
       "...                                                 ...                   ...   \n",
       "1369  2c5914d3324f414bbc913e65864a803b,2c5914d3324f4...  contextual proximity   \n",
       "1370  2c5914d3324f414bbc913e65864a803b,2c5914d3324f4...  contextual proximity   \n",
       "1371  2c5914d3324f414bbc913e65864a803b,2c5914d3324f4...  contextual proximity   \n",
       "1372  2c5914d3324f414bbc913e65864a803b,2c5914d3324f4...  contextual proximity   \n",
       "1373  2c5914d3324f414bbc913e65864a803b,2c5914d3324f4...  contextual proximity   \n",
       "\n",
       "      count  \n",
       "0         2  \n",
       "1         2  \n",
       "2         2  \n",
       "3         2  \n",
       "4         3  \n",
       "...     ...  \n",
       "1369      6  \n",
       "1370      4  \n",
       "1371      2  \n",
       "1372      2  \n",
       "1373      6  \n",
       "\n",
       "[1374 rows x 5 columns]"
      ]
     },
     "execution_count": 13,
     "metadata": {},
     "output_type": "execute_result"
    }
   ],
   "source": [
    "dfg = pd.concat([dfg1, dfg2], axis=0)\n",
    "dfg = (\n",
    "    dfg.groupby([\"node_1\", \"node_2\"])\n",
    "    .agg({\"chunk_id\": \",\".join, \"edge\": ','.join, 'count': 'sum'})\n",
    "    .reset_index()\n",
    ")\n",
    "dfg"
   ]
  },
  {
   "cell_type": "markdown",
   "metadata": {},
   "source": [
    "## Calculate the NetworkX Graph"
   ]
  },
  {
   "cell_type": "code",
   "execution_count": 15,
   "metadata": {},
   "outputs": [
    {
     "data": {
      "text/plain": [
       "(137,)"
      ]
     },
     "execution_count": 15,
     "metadata": {},
     "output_type": "execute_result"
    }
   ],
   "source": [
    "nodes = pd.concat([dfg['node_1'], dfg['node_2']], axis=0).unique()\n",
    "nodes.shape"
   ]
  },
  {
   "cell_type": "code",
   "execution_count": 16,
   "metadata": {},
   "outputs": [],
   "source": [
    "import networkx as nx\n",
    "G = nx.Graph()\n",
    "\n",
    "## Add nodes to the graph\n",
    "for node in nodes:\n",
    "    G.add_node(\n",
    "        str(node)\n",
    "    )\n",
    "\n",
    "## Add edges to the graph\n",
    "for index, row in dfg.iterrows():\n",
    "    G.add_edge(\n",
    "        str(row[\"node_1\"]),\n",
    "        str(row[\"node_2\"]),\n",
    "        title=row[\"edge\"],\n",
    "        weight=row['count']/4\n",
    "    )"
   ]
  },
  {
   "cell_type": "markdown",
   "metadata": {},
   "source": [
    "### Calculate communities for coloring the nodes"
   ]
  },
  {
   "cell_type": "code",
   "execution_count": 17,
   "metadata": {},
   "outputs": [
    {
     "name": "stdout",
     "output_type": "stream",
     "text": [
      "Number of Communities =  3\n",
      "[['$100m a year', '$360m each year', '$750m per year', 'american officials', 'american sanctions', 'america’s sanctions', 'annual income', 'attacks on gaza', 'ayatollahs', 'basic necessities', 'biggest friendly government', 'board seats', 'border', 'bosporus', 'cooperation with israel', 'coordination with hamas finance office', 'effectiveness', 'egypt', 'erdogan’s economic ministry civil servants', 'financial empire', 'financially bulletproof', 'friendly governments', \"funding for hamas's stockpile of arms and fuel\", 'gaza', 'gazans', 'goods', 'goods brought into gaza', 'hamas financiers', 'hamas income', 'hamas money', 'hamas savings', \"hamas's finances\", \"hamas's financial base\", \"hamas's financial empire\", \"hamas's financiers\", \"hamas's income\", \"hamas's physical force\", 'import taxes', 'income stream', 'iran', 'israel', 'israel and allies', 'istanbul restaurants', 'larger income stream', 'man', 'missiles', 'money for hamas', 'money-launderers and mining companies', 'movement of goods and people', 'name changes', 'overseas countries', 'palestinians in gaza', 'pro-palestinian countries', 're-emergence and flourishing', 'risk of hamas growing richer', 'safe location', \"schoolteachers' salaries\", 'sources of power', 'support for hamas bankers', 'three rounds of restrictions', 'tragedy', 'turkey’s banks', 'wealth and financial roots', 'west bank', 'western sanctions'], ['abroad', 'afra mall', 'algeria, sudan, uae', 'america', 'america’s treasury department', 'amman', 'another firm', 'binance', 'business deals', 'companies', 'companies of hamas', 'construction companies', 'countries', 'crypto market', 'doha', 'financial action task force', 'financial hub in amman', 'financiers of hamas', 'firms', 'firuze segzin', 'funding hamas', 'g7 watchdog', 'geopolitical shifts', 'hamas', 'hamas affiliation', 'hamas finances', 'hamas office in turkey', 'hamas’s annual revenue', 'hamas’s bankers', 'hamas’s businessmen', 'hamas’s cash', 'hamas’s money', 'hamas’s portfolio', 'hamas’s top brass', 'individuals under america sanctions', 'individuals under sanctions', 'investment office', 'investments', 'israel and america', 'israeli government', 'israeli officials', 'istanbul', 'istanbul commerce university', 'istanbul’s fatih neighbourhood', 'jordan’s capital', 'kuveyt turk', 'middle east countries', 'millions of dollars', 'mines near khartoum', 'mr erdogan', 'palestinian cause', 'passports for hamas members', 'politicians of hamas', 'pressure on hamas', 'profits from firms', 'qatar', 'recep tayyip erdogan', 'redin', 'revenue streams', 'sharjah, uae', 'shelter', 'sudan', 'third firm', 'trend gyo', 'turkey', \"turkey's banking system\", \"turkey's biggest banks\", 'turkish government', 'turkish officials', 'western regulators', 'zaher jabarin'], ['improvement risk']]\n"
     ]
    }
   ],
   "source": [
    "communities_generator = nx.community.girvan_newman(G)\n",
    "top_level_communities = next(communities_generator)\n",
    "next_level_communities = next(communities_generator)\n",
    "communities = sorted(map(sorted, next_level_communities))\n",
    "print(\"Number of Communities = \", len(communities))\n",
    "print(communities)"
   ]
  },
  {
   "cell_type": "markdown",
   "metadata": {},
   "source": [
    "### Create a dataframe for community colors"
   ]
  },
  {
   "cell_type": "code",
   "execution_count": null,
   "metadata": {},
   "outputs": [],
   "source": [
    "!pip install seaborn"
   ]
  },
  {
   "cell_type": "code",
   "execution_count": 18,
   "metadata": {},
   "outputs": [
    {
     "data": {
      "text/html": [
       "<div>\n",
       "<style scoped>\n",
       "    .dataframe tbody tr th:only-of-type {\n",
       "        vertical-align: middle;\n",
       "    }\n",
       "\n",
       "    .dataframe tbody tr th {\n",
       "        vertical-align: top;\n",
       "    }\n",
       "\n",
       "    .dataframe thead th {\n",
       "        text-align: right;\n",
       "    }\n",
       "</style>\n",
       "<table border=\"1\" class=\"dataframe\">\n",
       "  <thead>\n",
       "    <tr style=\"text-align: right;\">\n",
       "      <th></th>\n",
       "      <th>node</th>\n",
       "      <th>color</th>\n",
       "      <th>group</th>\n",
       "    </tr>\n",
       "  </thead>\n",
       "  <tbody>\n",
       "    <tr>\n",
       "      <th>0</th>\n",
       "      <td>$100m a year</td>\n",
       "      <td>#5f57db</td>\n",
       "      <td>1</td>\n",
       "    </tr>\n",
       "    <tr>\n",
       "      <th>1</th>\n",
       "      <td>$360m each year</td>\n",
       "      <td>#5f57db</td>\n",
       "      <td>1</td>\n",
       "    </tr>\n",
       "    <tr>\n",
       "      <th>2</th>\n",
       "      <td>$750m per year</td>\n",
       "      <td>#5f57db</td>\n",
       "      <td>1</td>\n",
       "    </tr>\n",
       "    <tr>\n",
       "      <th>3</th>\n",
       "      <td>american officials</td>\n",
       "      <td>#5f57db</td>\n",
       "      <td>1</td>\n",
       "    </tr>\n",
       "    <tr>\n",
       "      <th>4</th>\n",
       "      <td>american sanctions</td>\n",
       "      <td>#5f57db</td>\n",
       "      <td>1</td>\n",
       "    </tr>\n",
       "    <tr>\n",
       "      <th>...</th>\n",
       "      <td>...</td>\n",
       "      <td>...</td>\n",
       "      <td>...</td>\n",
       "    </tr>\n",
       "    <tr>\n",
       "      <th>132</th>\n",
       "      <td>turkish government</td>\n",
       "      <td>#57db5f</td>\n",
       "      <td>2</td>\n",
       "    </tr>\n",
       "    <tr>\n",
       "      <th>133</th>\n",
       "      <td>turkish officials</td>\n",
       "      <td>#57db5f</td>\n",
       "      <td>2</td>\n",
       "    </tr>\n",
       "    <tr>\n",
       "      <th>134</th>\n",
       "      <td>western regulators</td>\n",
       "      <td>#57db5f</td>\n",
       "      <td>2</td>\n",
       "    </tr>\n",
       "    <tr>\n",
       "      <th>135</th>\n",
       "      <td>zaher jabarin</td>\n",
       "      <td>#57db5f</td>\n",
       "      <td>2</td>\n",
       "    </tr>\n",
       "    <tr>\n",
       "      <th>136</th>\n",
       "      <td>improvement risk</td>\n",
       "      <td>#db5f57</td>\n",
       "      <td>3</td>\n",
       "    </tr>\n",
       "  </tbody>\n",
       "</table>\n",
       "<p>137 rows × 3 columns</p>\n",
       "</div>"
      ],
      "text/plain": [
       "                   node    color  group\n",
       "0          $100m a year  #5f57db      1\n",
       "1       $360m each year  #5f57db      1\n",
       "2        $750m per year  #5f57db      1\n",
       "3    american officials  #5f57db      1\n",
       "4    american sanctions  #5f57db      1\n",
       "..                  ...      ...    ...\n",
       "132  turkish government  #57db5f      2\n",
       "133   turkish officials  #57db5f      2\n",
       "134  western regulators  #57db5f      2\n",
       "135       zaher jabarin  #57db5f      2\n",
       "136    improvement risk  #db5f57      3\n",
       "\n",
       "[137 rows x 3 columns]"
      ]
     },
     "execution_count": 18,
     "metadata": {},
     "output_type": "execute_result"
    }
   ],
   "source": [
    "import seaborn as sns\n",
    "palette = \"hls\"\n",
    "\n",
    "## Now add these colors to communities and make another dataframe\n",
    "def colors2Community(communities) -> pd.DataFrame:\n",
    "    ## Define a color palette\n",
    "    p = sns.color_palette(palette, len(communities)).as_hex()\n",
    "    random.shuffle(p)\n",
    "    rows = []\n",
    "    group = 0\n",
    "    for community in communities:\n",
    "        color = p.pop()\n",
    "        group += 1\n",
    "        for node in community:\n",
    "            rows += [{\"node\": node, \"color\": color, \"group\": group}]\n",
    "    df_colors = pd.DataFrame(rows)\n",
    "    return df_colors\n",
    "\n",
    "\n",
    "colors = colors2Community(communities)\n",
    "colors"
   ]
  },
  {
   "cell_type": "markdown",
   "metadata": {},
   "source": [
    "### Add colors to the graph"
   ]
  },
  {
   "cell_type": "code",
   "execution_count": 19,
   "metadata": {},
   "outputs": [],
   "source": [
    "for index, row in colors.iterrows():\n",
    "    G.nodes[row['node']]['group'] = row['group']\n",
    "    G.nodes[row['node']]['color'] = row['color']\n",
    "    G.nodes[row['node']]['size'] = G.degree[row['node']]"
   ]
  },
  {
   "cell_type": "code",
   "execution_count": null,
   "metadata": {},
   "outputs": [],
   "source": [
    "!pip install pyvis"
   ]
  },
  {
   "cell_type": "code",
   "execution_count": 20,
   "metadata": {},
   "outputs": [
    {
     "name": "stdout",
     "output_type": "stream",
     "text": [
      "./docs/index_IP.html\n"
     ]
    }
   ],
   "source": [
    "import os\n",
    "os.makedirs('./docs', exist_ok=True)\n",
    "from pyvis.network import Network\n",
    "\n",
    "graph_output_directory = \"./docs/index_IP.html\"\n",
    "\n",
    "net = Network(\n",
    "    notebook=False,\n",
    "    # bgcolor=\"#1a1a1a\",\n",
    "    cdn_resources=\"remote\",\n",
    "    height=\"900px\",\n",
    "    width=\"100%\",\n",
    "    select_menu=True,\n",
    "    # font_color=\"#cccccc\",\n",
    "    filter_menu=False,\n",
    ")\n",
    "\n",
    "net.from_nx(G)\n",
    "# net.repulsion(node_distance=150, spring_length=400)\n",
    "net.force_atlas_2based(central_gravity=0.015, gravity=-31)\n",
    "# net.barnes_hut(gravity=-18100, central_gravity=5.05, spring_length=380)\n",
    "net.show_buttons(filter_=[\"physics\"])\n",
    "\n",
    "net.show(graph_output_directory, notebook=False)"
   ]
  },
  {
   "cell_type": "code",
   "execution_count": 21,
   "metadata": {},
   "outputs": [
    {
     "name": "stdout",
     "output_type": "stream",
     "text": [
      "Top 10 nodes by size (degree):\n",
      "hamas: 113\n",
      "israel: 78\n",
      "turkish government: 38\n",
      "revenue streams: 36\n",
      "istanbul: 35\n",
      "doha: 32\n",
      "hamas’s bankers: 32\n",
      "recep tayyip erdogan: 32\n",
      "zaher jabarin: 32\n",
      "american officials: 31\n"
     ]
    }
   ],
   "source": [
    "# Get node degrees as a dictionary: {node: degree}\n",
    "node_degrees = dict(G.degree())\n",
    "\n",
    "# Sort nodes by degree in descending order and get the top 10\n",
    "top_10_nodes = sorted(node_degrees.items(), key=lambda x: x[1], reverse=True)[:10]\n",
    "\n",
    "# Print the results\n",
    "print(\"Top 10 nodes by size (degree):\")\n",
    "for node, degree in top_10_nodes:\n",
    "    print(f\"{node}: {degree}\")"
   ]
  }
 ],
 "metadata": {
  "kernelspec": {
   "display_name": "Python 3",
   "language": "python",
   "name": "python3"
  },
  "language_info": {
   "codemirror_mode": {
    "name": "ipython",
    "version": 3
   },
   "file_extension": ".py",
   "mimetype": "text/x-python",
   "name": "python",
   "nbconvert_exporter": "python",
   "pygments_lexer": "ipython3",
   "version": "3.13.5"
  }
 },
 "nbformat": 4,
 "nbformat_minor": 2
}
