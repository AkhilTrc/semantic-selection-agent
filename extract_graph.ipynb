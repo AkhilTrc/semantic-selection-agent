{
 "cells": [
  {
   "cell_type": "markdown",
   "metadata": {},
   "source": [
    "## Setup"
   ]
  },
  {
   "cell_type": "code",
   "execution_count": null,
   "metadata": {},
   "outputs": [],
   "source": [
    "!pip install langchain"
   ]
  },
  {
   "cell_type": "code",
   "execution_count": null,
   "metadata": {},
   "outputs": [],
   "source": [
    "!pip install -U langchain-community"
   ]
  },
  {
   "cell_type": "code",
   "execution_count": null,
   "metadata": {},
   "outputs": [],
   "source": [
    "!pip install unstructured"
   ]
  },
  {
   "cell_type": "code",
   "execution_count": null,
   "metadata": {},
   "outputs": [],
   "source": [
    "!pip install libmagic"
   ]
  },
  {
   "cell_type": "code",
   "execution_count": 1,
   "metadata": {},
   "outputs": [],
   "source": [
    "import pandas as pd\n",
    "import numpy as np\n",
    "import os\n",
    "from langchain.document_loaders import PyPDFLoader, UnstructuredPDFLoader, PyPDFium2Loader\n",
    "from langchain.document_loaders import PyPDFDirectoryLoader, DirectoryLoader\n",
    "from langchain.text_splitter import RecursiveCharacterTextSplitter\n",
    "from pathlib import Path\n",
    "import random\n",
    "\n",
    "## Input data directory\n",
    "data_dir = \"cureus\"\n",
    "inputdirectory = Path(f\"./data_input/{data_dir}\")\n",
    "## This is where the output csv files will be written\n",
    "out_dir = data_dir\n",
    "outputdirectory = Path(f\"./data_output/{out_dir}\")"
   ]
  },
  {
   "cell_type": "markdown",
   "metadata": {},
   "source": [
    "## Load Documents"
   ]
  },
  {
   "cell_type": "code",
   "execution_count": 2,
   "metadata": {},
   "outputs": [
    {
     "name": "stderr",
     "output_type": "stream",
     "text": [
      "  0%|          | 0/1 [00:00<?, ?it/s]libmagic is unavailable but assists in filetype detection. Please consider installing libmagic for better results.\n",
      "100%|██████████| 1/1 [00:17<00:00, 17.26s/it]"
     ]
    },
    {
     "name": "stdout",
     "output_type": "stream",
     "text": [
      "Number of chunks =  23\n",
      "policy research, consisting of readying one's materials, extracting the data, and analyzing it to distill the findings. An extensive literature search was performed, and 56 articles published in peer-reviewed journals between 2005 and 2021 were selected and analyzed. The corresponding authors' experiential knowledge served as the foundation for the analysis.\n"
     ]
    },
    {
     "name": "stderr",
     "output_type": "stream",
     "text": [
      "\n"
     ]
    }
   ],
   "source": [
    "## Dir PDF Loader\n",
    "# loader = PyPDFDirectoryLoader(inputdirectory)\n",
    "## File Loader\n",
    "# loader = PyPDFLoader(\"./data/MedicalDocuments/orf-path_health-n1.pdf\")\n",
    "loader = DirectoryLoader(inputdirectory, show_progress=True)\n",
    "documents = loader.load()\n",
    "\n",
    "splitter = RecursiveCharacterTextSplitter(\n",
    "    chunk_size=1500,\n",
    "    chunk_overlap=150,\n",
    "    length_function=len,\n",
    "    is_separator_regex=False,\n",
    ")\n",
    "\n",
    "pages = splitter.split_documents(documents)\n",
    "print(\"Number of chunks = \", len(pages))\n",
    "print(pages[3].page_content)\n"
   ]
  },
  {
   "cell_type": "markdown",
   "metadata": {},
   "source": [
    "## Create a dataframe of all the chunks"
   ]
  },
  {
   "cell_type": "code",
   "execution_count": null,
   "metadata": {},
   "outputs": [],
   "source": [
    "!pip install yachalk"
   ]
  },
  {
   "cell_type": "code",
   "execution_count": 3,
   "metadata": {},
   "outputs": [
    {
     "name": "stdout",
     "output_type": "stream",
     "text": [
      "(23, 3)\n"
     ]
    },
    {
     "data": {
      "text/html": [
       "<div>\n",
       "<style scoped>\n",
       "    .dataframe tbody tr th:only-of-type {\n",
       "        vertical-align: middle;\n",
       "    }\n",
       "\n",
       "    .dataframe tbody tr th {\n",
       "        vertical-align: top;\n",
       "    }\n",
       "\n",
       "    .dataframe thead th {\n",
       "        text-align: right;\n",
       "    }\n",
       "</style>\n",
       "<table border=\"1\" class=\"dataframe\">\n",
       "  <thead>\n",
       "    <tr style=\"text-align: right;\">\n",
       "      <th></th>\n",
       "      <th>text</th>\n",
       "      <th>source</th>\n",
       "      <th>chunk_id</th>\n",
       "    </tr>\n",
       "  </thead>\n",
       "  <tbody>\n",
       "    <tr>\n",
       "      <th>0</th>\n",
       "      <td>Abstract India’s health indicators have improv...</td>\n",
       "      <td>data_input\\cureus\\cureus-0015-00000040274.txt</td>\n",
       "      <td>bdc817b6959847fbb40743f9ff16998b</td>\n",
       "    </tr>\n",
       "    <tr>\n",
       "      <th>1</th>\n",
       "      <td>Categories: Public Health, Epidemiology/Public...</td>\n",
       "      <td>data_input\\cureus\\cureus-0015-00000040274.txt</td>\n",
       "      <td>c11f8819566243cab7df152d63051847</td>\n",
       "    </tr>\n",
       "    <tr>\n",
       "      <th>2</th>\n",
       "      <td>Introduction And Background India’s health ind...</td>\n",
       "      <td>data_input\\cureus\\cureus-0015-00000040274.txt</td>\n",
       "      <td>7e741fc9e6354dac96570afb1f709dd2</td>\n",
       "    </tr>\n",
       "    <tr>\n",
       "      <th>3</th>\n",
       "      <td>policy research, consisting of readying one's ...</td>\n",
       "      <td>data_input\\cureus\\cureus-0015-00000040274.txt</td>\n",
       "      <td>c549bcf39b33469ea817dc1acc0db5a9</td>\n",
       "    </tr>\n",
       "    <tr>\n",
       "      <th>4</th>\n",
       "      <td>Review Overview of the public and private heal...</td>\n",
       "      <td>data_input\\cureus\\cureus-0015-00000040274.txt</td>\n",
       "      <td>5ce58c8d0a21413398ea4128bd39e902</td>\n",
       "    </tr>\n",
       "  </tbody>\n",
       "</table>\n",
       "</div>"
      ],
      "text/plain": [
       "                                                text  \\\n",
       "0  Abstract India’s health indicators have improv...   \n",
       "1  Categories: Public Health, Epidemiology/Public...   \n",
       "2  Introduction And Background India’s health ind...   \n",
       "3  policy research, consisting of readying one's ...   \n",
       "4  Review Overview of the public and private heal...   \n",
       "\n",
       "                                          source  \\\n",
       "0  data_input\\cureus\\cureus-0015-00000040274.txt   \n",
       "1  data_input\\cureus\\cureus-0015-00000040274.txt   \n",
       "2  data_input\\cureus\\cureus-0015-00000040274.txt   \n",
       "3  data_input\\cureus\\cureus-0015-00000040274.txt   \n",
       "4  data_input\\cureus\\cureus-0015-00000040274.txt   \n",
       "\n",
       "                           chunk_id  \n",
       "0  bdc817b6959847fbb40743f9ff16998b  \n",
       "1  c11f8819566243cab7df152d63051847  \n",
       "2  7e741fc9e6354dac96570afb1f709dd2  \n",
       "3  c549bcf39b33469ea817dc1acc0db5a9  \n",
       "4  5ce58c8d0a21413398ea4128bd39e902  "
      ]
     },
     "execution_count": 3,
     "metadata": {},
     "output_type": "execute_result"
    }
   ],
   "source": [
    "from helpers.df_helpers import documents2Dataframe\n",
    "df = documents2Dataframe(pages)\n",
    "print(df.shape)\n",
    "df.head()"
   ]
  },
  {
   "cell_type": "markdown",
   "metadata": {},
   "source": [
    "## Extract Concepts"
   ]
  },
  {
   "cell_type": "code",
   "execution_count": 4,
   "metadata": {},
   "outputs": [],
   "source": [
    "## This function uses the helpers/prompt function to extract concepts from text\n",
    "from helpers.df_helpers import df2Graph\n",
    "from helpers.df_helpers import graph2Df"
   ]
  },
  {
   "cell_type": "markdown",
   "metadata": {},
   "source": [
    "If regenerate is set to True then the dataframes are regenerated and Both the dataframes are written in the csv format so we dont have to calculate them again. \n",
    "\n",
    "        dfne = dataframe of edges\n",
    "\n",
    "        df = dataframe of chunks\n",
    "\n",
    "\n",
    "Else the dataframes are read from the output directory"
   ]
  },
  {
   "cell_type": "code",
   "execution_count": 5,
   "metadata": {},
   "outputs": [
    {
     "name": "stdout",
     "output_type": "stream",
     "text": [
      "(334, 5)\n"
     ]
    },
    {
     "data": {
      "text/html": [
       "<div>\n",
       "<style scoped>\n",
       "    .dataframe tbody tr th:only-of-type {\n",
       "        vertical-align: middle;\n",
       "    }\n",
       "\n",
       "    .dataframe tbody tr th {\n",
       "        vertical-align: top;\n",
       "    }\n",
       "\n",
       "    .dataframe thead th {\n",
       "        text-align: right;\n",
       "    }\n",
       "</style>\n",
       "<table border=\"1\" class=\"dataframe\">\n",
       "  <thead>\n",
       "    <tr style=\"text-align: right;\">\n",
       "      <th></th>\n",
       "      <th>node_1</th>\n",
       "      <th>node_2</th>\n",
       "      <th>edge</th>\n",
       "      <th>chunk_id</th>\n",
       "      <th>count</th>\n",
       "    </tr>\n",
       "  </thead>\n",
       "  <tbody>\n",
       "    <tr>\n",
       "      <th>0</th>\n",
       "      <td>india</td>\n",
       "      <td>health indicators</td>\n",
       "      <td>India's health indicators have improved but st...</td>\n",
       "      <td>bdc817b6959847fbb40743f9ff16998b</td>\n",
       "      <td>4</td>\n",
       "    </tr>\n",
       "    <tr>\n",
       "      <th>1</th>\n",
       "      <td>india</td>\n",
       "      <td>population of 1.3 billion</td>\n",
       "      <td>India is a country with a population of 1.3 bi...</td>\n",
       "      <td>bdc817b6959847fbb40743f9ff16998b</td>\n",
       "      <td>4</td>\n",
       "    </tr>\n",
       "    <tr>\n",
       "      <th>2</th>\n",
       "      <td>active health workers density</td>\n",
       "      <td>doctors and nurses/midwives</td>\n",
       "      <td>Active health workers density in India include...</td>\n",
       "      <td>bdc817b6959847fbb40743f9ff16998b</td>\n",
       "      <td>4</td>\n",
       "    </tr>\n",
       "    <tr>\n",
       "      <th>3</th>\n",
       "      <td>active health workers density</td>\n",
       "      <td>5.0 and 6.0 respectively per 10,000 persons</td>\n",
       "      <td>The density of doctors and nurses/midwives is ...</td>\n",
       "      <td>bdc817b6959847fbb40743f9ff16998b</td>\n",
       "      <td>4</td>\n",
       "    </tr>\n",
       "    <tr>\n",
       "      <th>4</th>\n",
       "      <td>india</td>\n",
       "      <td>who threshold of 44.5 doctors, nurses, and mid...</td>\n",
       "      <td>India's active health workers density is much ...</td>\n",
       "      <td>bdc817b6959847fbb40743f9ff16998b</td>\n",
       "      <td>4</td>\n",
       "    </tr>\n",
       "  </tbody>\n",
       "</table>\n",
       "</div>"
      ],
      "text/plain": [
       "                          node_1  \\\n",
       "0                          india   \n",
       "1                          india   \n",
       "2  active health workers density   \n",
       "3  active health workers density   \n",
       "4                          india   \n",
       "\n",
       "                                              node_2  \\\n",
       "0                                  health indicators   \n",
       "1                          population of 1.3 billion   \n",
       "2                        doctors and nurses/midwives   \n",
       "3        5.0 and 6.0 respectively per 10,000 persons   \n",
       "4  who threshold of 44.5 doctors, nurses, and mid...   \n",
       "\n",
       "                                                edge  \\\n",
       "0  India's health indicators have improved but st...   \n",
       "1  India is a country with a population of 1.3 bi...   \n",
       "2  Active health workers density in India include...   \n",
       "3  The density of doctors and nurses/midwives is ...   \n",
       "4  India's active health workers density is much ...   \n",
       "\n",
       "                           chunk_id  count  \n",
       "0  bdc817b6959847fbb40743f9ff16998b      4  \n",
       "1  bdc817b6959847fbb40743f9ff16998b      4  \n",
       "2  bdc817b6959847fbb40743f9ff16998b      4  \n",
       "3  bdc817b6959847fbb40743f9ff16998b      4  \n",
       "4  bdc817b6959847fbb40743f9ff16998b      4  "
      ]
     },
     "execution_count": 5,
     "metadata": {},
     "output_type": "execute_result"
    }
   ],
   "source": [
    "## To regenerate the graph with LLM, set this to True\n",
    "regenerate = True\n",
    "\n",
    "if regenerate:\n",
    "    concepts_list = df2Graph(df, model='gpt-4.1-mini')\n",
    "    dfg1 = graph2Df(concepts_list)\n",
    "    if not os.path.exists(outputdirectory):\n",
    "        os.makedirs(outputdirectory)\n",
    "    \n",
    "    dfg1.to_csv(outputdirectory/\"graph.csv\", sep=\"|\", index=False)\n",
    "    df.to_csv(outputdirectory/\"chunks.csv\", sep=\"|\", index=False)\n",
    "else:\n",
    "    dfg1 = pd.read_csv(outputdirectory/\"graph.csv\", sep=\"|\")\n",
    "\n",
    "dfg1.replace(\"\", np.nan, inplace=True)\n",
    "dfg1.dropna(subset=[\"node_1\", \"node_2\", 'edge'], inplace=True)\n",
    "dfg1['count'] = 4 \n",
    "## Increasing the weight of the relation to 4. \n",
    "## We will assign the weight of 1 when later the contextual proximity will be calculated.  \n",
    "print(dfg1.shape)\n",
    "dfg1.head()"
   ]
  },
  {
   "cell_type": "markdown",
   "metadata": {},
   "source": [
    "## Calculating contextual proximity"
   ]
  },
  {
   "cell_type": "code",
   "execution_count": 6,
   "metadata": {},
   "outputs": [
    {
     "data": {
      "text/html": [
       "<div>\n",
       "<style scoped>\n",
       "    .dataframe tbody tr th:only-of-type {\n",
       "        vertical-align: middle;\n",
       "    }\n",
       "\n",
       "    .dataframe tbody tr th {\n",
       "        vertical-align: top;\n",
       "    }\n",
       "\n",
       "    .dataframe thead th {\n",
       "        text-align: right;\n",
       "    }\n",
       "</style>\n",
       "<table border=\"1\" class=\"dataframe\">\n",
       "  <thead>\n",
       "    <tr style=\"text-align: right;\">\n",
       "      <th></th>\n",
       "      <th>node_1</th>\n",
       "      <th>node_2</th>\n",
       "      <th>chunk_id</th>\n",
       "      <th>count</th>\n",
       "      <th>edge</th>\n",
       "    </tr>\n",
       "  </thead>\n",
       "  <tbody>\n",
       "    <tr>\n",
       "      <th>11053</th>\n",
       "      <td>world-class health facilities</td>\n",
       "      <td>world health organization</td>\n",
       "      <td>5ce58c8d0a21413398ea4128bd39e902,5ce58c8d0a214...</td>\n",
       "      <td>2</td>\n",
       "      <td>contextual proximity</td>\n",
       "    </tr>\n",
       "    <tr>\n",
       "      <th>11064</th>\n",
       "      <td>young and early career doctors</td>\n",
       "      <td>india</td>\n",
       "      <td>7cdeca8fa8ee4a8ab309fcc6de187fda,7cdeca8fa8ee4...</td>\n",
       "      <td>2</td>\n",
       "      <td>contextual proximity</td>\n",
       "    </tr>\n",
       "    <tr>\n",
       "      <th>11066</th>\n",
       "      <td>young and early career doctors</td>\n",
       "      <td>medical colleges</td>\n",
       "      <td>7cdeca8fa8ee4a8ab309fcc6de187fda,7cdeca8fa8ee4...</td>\n",
       "      <td>2</td>\n",
       "      <td>contextual proximity</td>\n",
       "    </tr>\n",
       "    <tr>\n",
       "      <th>11067</th>\n",
       "      <td>young and early career doctors</td>\n",
       "      <td>performance targets and practice constraints</td>\n",
       "      <td>7cdeca8fa8ee4a8ab309fcc6de187fda,7cdeca8fa8ee4...</td>\n",
       "      <td>2</td>\n",
       "      <td>contextual proximity</td>\n",
       "    </tr>\n",
       "    <tr>\n",
       "      <th>11068</th>\n",
       "      <td>young and early career doctors</td>\n",
       "      <td>private sector</td>\n",
       "      <td>7cdeca8fa8ee4a8ab309fcc6de187fda,7cdeca8fa8ee4...</td>\n",
       "      <td>3</td>\n",
       "      <td>contextual proximity</td>\n",
       "    </tr>\n",
       "  </tbody>\n",
       "</table>\n",
       "</div>"
      ],
      "text/plain": [
       "                               node_1  \\\n",
       "11053   world-class health facilities   \n",
       "11064  young and early career doctors   \n",
       "11066  young and early career doctors   \n",
       "11067  young and early career doctors   \n",
       "11068  young and early career doctors   \n",
       "\n",
       "                                             node_2  \\\n",
       "11053                     world health organization   \n",
       "11064                                         india   \n",
       "11066                              medical colleges   \n",
       "11067  performance targets and practice constraints   \n",
       "11068                                private sector   \n",
       "\n",
       "                                                chunk_id  count  \\\n",
       "11053  5ce58c8d0a21413398ea4128bd39e902,5ce58c8d0a214...      2   \n",
       "11064  7cdeca8fa8ee4a8ab309fcc6de187fda,7cdeca8fa8ee4...      2   \n",
       "11066  7cdeca8fa8ee4a8ab309fcc6de187fda,7cdeca8fa8ee4...      2   \n",
       "11067  7cdeca8fa8ee4a8ab309fcc6de187fda,7cdeca8fa8ee4...      2   \n",
       "11068  7cdeca8fa8ee4a8ab309fcc6de187fda,7cdeca8fa8ee4...      3   \n",
       "\n",
       "                       edge  \n",
       "11053  contextual proximity  \n",
       "11064  contextual proximity  \n",
       "11066  contextual proximity  \n",
       "11067  contextual proximity  \n",
       "11068  contextual proximity  "
      ]
     },
     "execution_count": 6,
     "metadata": {},
     "output_type": "execute_result"
    }
   ],
   "source": [
    "def contextual_proximity(df: pd.DataFrame) -> pd.DataFrame:\n",
    "    ## Melt the dataframe into a list of nodes\n",
    "    dfg_long = pd.melt(\n",
    "        df, id_vars=[\"chunk_id\"], value_vars=[\"node_1\", \"node_2\"], value_name=\"node\"\n",
    "    )\n",
    "    dfg_long.drop(columns=[\"variable\"], inplace=True)\n",
    "    # Self join with chunk id as the key will create a link between terms occuring in the same text chunk.\n",
    "    dfg_wide = pd.merge(dfg_long, dfg_long, on=\"chunk_id\", suffixes=(\"_1\", \"_2\"))\n",
    "    # drop self loops\n",
    "    self_loops_drop = dfg_wide[dfg_wide[\"node_1\"] == dfg_wide[\"node_2\"]].index\n",
    "    dfg2 = dfg_wide.drop(index=self_loops_drop).reset_index(drop=True)\n",
    "    ## Group and count edges.\n",
    "    dfg2 = (\n",
    "        dfg2.groupby([\"node_1\", \"node_2\"])\n",
    "        .agg({\"chunk_id\": [\",\".join, \"count\"]})\n",
    "        .reset_index()\n",
    "    )\n",
    "    dfg2.columns = [\"node_1\", \"node_2\", \"chunk_id\", \"count\"]\n",
    "    dfg2.replace(\"\", np.nan, inplace=True)\n",
    "    dfg2.dropna(subset=[\"node_1\", \"node_2\"], inplace=True)\n",
    "    # Drop edges with 1 count\n",
    "    dfg2 = dfg2[dfg2[\"count\"] != 1]\n",
    "    dfg2[\"edge\"] = \"contextual proximity\"\n",
    "    return dfg2\n",
    "\n",
    "\n",
    "dfg2 = contextual_proximity(dfg1)\n",
    "dfg2.tail()"
   ]
  },
  {
   "cell_type": "markdown",
   "metadata": {},
   "source": [
    "### Merge both the dataframes"
   ]
  },
  {
   "cell_type": "code",
   "execution_count": 7,
   "metadata": {},
   "outputs": [
    {
     "data": {
      "text/html": [
       "<div>\n",
       "<style scoped>\n",
       "    .dataframe tbody tr th:only-of-type {\n",
       "        vertical-align: middle;\n",
       "    }\n",
       "\n",
       "    .dataframe tbody tr th {\n",
       "        vertical-align: top;\n",
       "    }\n",
       "\n",
       "    .dataframe thead th {\n",
       "        text-align: right;\n",
       "    }\n",
       "</style>\n",
       "<table border=\"1\" class=\"dataframe\">\n",
       "  <thead>\n",
       "    <tr style=\"text-align: right;\">\n",
       "      <th></th>\n",
       "      <th>node_1</th>\n",
       "      <th>node_2</th>\n",
       "      <th>chunk_id</th>\n",
       "      <th>edge</th>\n",
       "      <th>count</th>\n",
       "    </tr>\n",
       "  </thead>\n",
       "  <tbody>\n",
       "    <tr>\n",
       "      <th>0</th>\n",
       "      <td>0.576 physicians per 1,000 population in 2000</td>\n",
       "      <td>5.1% of the gdp</td>\n",
       "      <td>5ce58c8d0a21413398ea4128bd39e902,5ce58c8d0a214...</td>\n",
       "      <td>contextual proximity</td>\n",
       "      <td>2</td>\n",
       "    </tr>\n",
       "    <tr>\n",
       "      <th>1</th>\n",
       "      <td>0.576 physicians per 1,000 population in 2000</td>\n",
       "      <td>for-profit private health sector</td>\n",
       "      <td>5ce58c8d0a21413398ea4128bd39e902,5ce58c8d0a214...</td>\n",
       "      <td>contextual proximity</td>\n",
       "      <td>3</td>\n",
       "    </tr>\n",
       "    <tr>\n",
       "      <th>2</th>\n",
       "      <td>0.576 physicians per 1,000 population in 2000</td>\n",
       "      <td>government-funded health sector</td>\n",
       "      <td>5ce58c8d0a21413398ea4128bd39e902,5ce58c8d0a214...</td>\n",
       "      <td>contextual proximity</td>\n",
       "      <td>3</td>\n",
       "    </tr>\n",
       "    <tr>\n",
       "      <th>3</th>\n",
       "      <td>0.576 physicians per 1,000 population in 2000</td>\n",
       "      <td>india</td>\n",
       "      <td>5ce58c8d0a21413398ea4128bd39e902,5ce58c8d0a214...</td>\n",
       "      <td>contextual proximity</td>\n",
       "      <td>2</td>\n",
       "    </tr>\n",
       "    <tr>\n",
       "      <th>4</th>\n",
       "      <td>0.576 physicians per 1,000 population in 2000</td>\n",
       "      <td>individual informal provider clinics</td>\n",
       "      <td>5ce58c8d0a21413398ea4128bd39e902,5ce58c8d0a214...</td>\n",
       "      <td>contextual proximity</td>\n",
       "      <td>2</td>\n",
       "    </tr>\n",
       "    <tr>\n",
       "      <th>...</th>\n",
       "      <td>...</td>\n",
       "      <td>...</td>\n",
       "      <td>...</td>\n",
       "      <td>...</td>\n",
       "      <td>...</td>\n",
       "    </tr>\n",
       "    <tr>\n",
       "      <th>4484</th>\n",
       "      <td>young and early career doctors</td>\n",
       "      <td>erosion of status and opportunity</td>\n",
       "      <td>7cdeca8fa8ee4a8ab309fcc6de187fda</td>\n",
       "      <td>The majority of young and early career doctors...</td>\n",
       "      <td>4</td>\n",
       "    </tr>\n",
       "    <tr>\n",
       "      <th>4485</th>\n",
       "      <td>young and early career doctors</td>\n",
       "      <td>india</td>\n",
       "      <td>7cdeca8fa8ee4a8ab309fcc6de187fda,7cdeca8fa8ee4...</td>\n",
       "      <td>contextual proximity</td>\n",
       "      <td>2</td>\n",
       "    </tr>\n",
       "    <tr>\n",
       "      <th>4486</th>\n",
       "      <td>young and early career doctors</td>\n",
       "      <td>medical colleges</td>\n",
       "      <td>7cdeca8fa8ee4a8ab309fcc6de187fda,7cdeca8fa8ee4...</td>\n",
       "      <td>contextual proximity</td>\n",
       "      <td>2</td>\n",
       "    </tr>\n",
       "    <tr>\n",
       "      <th>4487</th>\n",
       "      <td>young and early career doctors</td>\n",
       "      <td>performance targets and practice constraints</td>\n",
       "      <td>7cdeca8fa8ee4a8ab309fcc6de187fda,7cdeca8fa8ee4...</td>\n",
       "      <td>contextual proximity</td>\n",
       "      <td>2</td>\n",
       "    </tr>\n",
       "    <tr>\n",
       "      <th>4488</th>\n",
       "      <td>young and early career doctors</td>\n",
       "      <td>private sector</td>\n",
       "      <td>7cdeca8fa8ee4a8ab309fcc6de187fda,7cdeca8fa8ee4...</td>\n",
       "      <td>contextual proximity</td>\n",
       "      <td>3</td>\n",
       "    </tr>\n",
       "  </tbody>\n",
       "</table>\n",
       "<p>4489 rows × 5 columns</p>\n",
       "</div>"
      ],
      "text/plain": [
       "                                             node_1  \\\n",
       "0     0.576 physicians per 1,000 population in 2000   \n",
       "1     0.576 physicians per 1,000 population in 2000   \n",
       "2     0.576 physicians per 1,000 population in 2000   \n",
       "3     0.576 physicians per 1,000 population in 2000   \n",
       "4     0.576 physicians per 1,000 population in 2000   \n",
       "...                                             ...   \n",
       "4484                 young and early career doctors   \n",
       "4485                 young and early career doctors   \n",
       "4486                 young and early career doctors   \n",
       "4487                 young and early career doctors   \n",
       "4488                 young and early career doctors   \n",
       "\n",
       "                                            node_2  \\\n",
       "0                                  5.1% of the gdp   \n",
       "1                 for-profit private health sector   \n",
       "2                  government-funded health sector   \n",
       "3                                            india   \n",
       "4             individual informal provider clinics   \n",
       "...                                            ...   \n",
       "4484             erosion of status and opportunity   \n",
       "4485                                         india   \n",
       "4486                              medical colleges   \n",
       "4487  performance targets and practice constraints   \n",
       "4488                                private sector   \n",
       "\n",
       "                                               chunk_id  \\\n",
       "0     5ce58c8d0a21413398ea4128bd39e902,5ce58c8d0a214...   \n",
       "1     5ce58c8d0a21413398ea4128bd39e902,5ce58c8d0a214...   \n",
       "2     5ce58c8d0a21413398ea4128bd39e902,5ce58c8d0a214...   \n",
       "3     5ce58c8d0a21413398ea4128bd39e902,5ce58c8d0a214...   \n",
       "4     5ce58c8d0a21413398ea4128bd39e902,5ce58c8d0a214...   \n",
       "...                                                 ...   \n",
       "4484                   7cdeca8fa8ee4a8ab309fcc6de187fda   \n",
       "4485  7cdeca8fa8ee4a8ab309fcc6de187fda,7cdeca8fa8ee4...   \n",
       "4486  7cdeca8fa8ee4a8ab309fcc6de187fda,7cdeca8fa8ee4...   \n",
       "4487  7cdeca8fa8ee4a8ab309fcc6de187fda,7cdeca8fa8ee4...   \n",
       "4488  7cdeca8fa8ee4a8ab309fcc6de187fda,7cdeca8fa8ee4...   \n",
       "\n",
       "                                                   edge  count  \n",
       "0                                  contextual proximity      2  \n",
       "1                                  contextual proximity      3  \n",
       "2                                  contextual proximity      3  \n",
       "3                                  contextual proximity      2  \n",
       "4                                  contextual proximity      2  \n",
       "...                                                 ...    ...  \n",
       "4484  The majority of young and early career doctors...      4  \n",
       "4485                               contextual proximity      2  \n",
       "4486                               contextual proximity      2  \n",
       "4487                               contextual proximity      2  \n",
       "4488                               contextual proximity      3  \n",
       "\n",
       "[4489 rows x 5 columns]"
      ]
     },
     "execution_count": 7,
     "metadata": {},
     "output_type": "execute_result"
    }
   ],
   "source": [
    "dfg = pd.concat([dfg1, dfg2], axis=0)\n",
    "dfg = (\n",
    "    dfg.groupby([\"node_1\", \"node_2\"])\n",
    "    .agg({\"chunk_id\": \",\".join, \"edge\": ','.join, 'count': 'sum'})\n",
    "    .reset_index()\n",
    ")\n",
    "dfg"
   ]
  },
  {
   "cell_type": "markdown",
   "metadata": {},
   "source": [
    "## Calculate the NetworkX Graph"
   ]
  },
  {
   "cell_type": "code",
   "execution_count": 8,
   "metadata": {},
   "outputs": [
    {
     "data": {
      "text/plain": [
       "(428,)"
      ]
     },
     "execution_count": 8,
     "metadata": {},
     "output_type": "execute_result"
    }
   ],
   "source": [
    "nodes = pd.concat([dfg['node_1'], dfg['node_2']], axis=0).unique()\n",
    "nodes.shape"
   ]
  },
  {
   "cell_type": "code",
   "execution_count": 9,
   "metadata": {},
   "outputs": [],
   "source": [
    "import networkx as nx\n",
    "G = nx.Graph()\n",
    "\n",
    "## Add nodes to the graph\n",
    "for node in nodes:\n",
    "    G.add_node(\n",
    "        str(node)\n",
    "    )\n",
    "\n",
    "## Add edges to the graph\n",
    "for index, row in dfg.iterrows():\n",
    "    G.add_edge(\n",
    "        str(row[\"node_1\"]),\n",
    "        str(row[\"node_2\"]),\n",
    "        title=row[\"edge\"],\n",
    "        weight=row['count']/4\n",
    "    )"
   ]
  },
  {
   "cell_type": "markdown",
   "metadata": {},
   "source": [
    "### Calculate communities for coloring the nodes"
   ]
  },
  {
   "cell_type": "code",
   "execution_count": 10,
   "metadata": {},
   "outputs": [
    {
     "name": "stdout",
     "output_type": "stream",
     "text": [
      "Number of Communities =  5\n",
      "[['0.576 physicians per 1,000 population in 2000', '0.7 public hospital beds per 100,000 people', '1% of the gdp', '1.28% of the gdp', '2005', '2022', '275,000', '279 medical colleges', '37% of the population', '5.0 and 6.0 respectively per 10,000 persons', '5.1% of the gdp', 'accredit health facilities', 'accurate data about quantity and geospatial location of manpower', 'active health workers density', \"active health workers' density in india\", 'affordable, accessible, quality care', 'ai-embedded algorithms', 'application of technology in health sector', 'article', 'ashas', \"authors' experiential learning\", 'auxiliary nurse midwives', 'ayush', 'ayushman bharat', 'behavior modification', 'better health for all indians', 'booming medical tourism industry and medical schools', 'bridge courses', 'broad overarching policy', 'capacity to utilize funds', 'care for economically weaker sections', 'cause of concern', 'central government', 'centralizing control of medical education', 'clarity on interplay', 'cognitive platform', 'cold chain maintenance', 'communities', 'community health providers', 'competency-based training', 'consultations with healthcare providers', 'contractors', 'contractual basis', 'contractual employees', 'contractual government posts', 'contractual personnel', 'contractual posts', 'coordinated implementation', 'corporate houses in urban areas', 'corporate sector', 'country', 'courses', 'covid-19 pandemic', 'covid-19 vaccination', 'creating partnerships with the private sector', 'creation of transparent governance', 'dashboard', 'deeper structural problems', 'delayed', 'delivery of healthcare to populations', 'delivery of medicines to communities', 'delivery of vital healthcare', 'demotivating working conditions', 'diabetes capital', 'diagnosing covid-19 disease', 'digital divide', 'digital literacy', 'digital technologies', 'digital technology', 'digital track and trace system', 'disease profiles diversity', 'doctor-to-population ratio of 1:1,000', 'doctors', 'doctors and nurses/midwives', 'doctors graduating from private colleges', 'doctors trained in ayush', 'doctors’ professional autonomy', 'dominant provider of healthcare', 'drones', 'efficiency and effectiveness of manpower utilization', 'emigration', 'enforce existing rules and create new ones', 'enforcement', 'erosion of status and opportunity', 'erratic posting of personnel', 'evin', 'exact number or geospatial details about practicing doctors', 'faculty from university of nottingham', 'federal government’s allocation', 'federal health budget', 'fees', 'few participants implementing training learned', 'financial allocation', 'first choice of care', 'for-profit private health sector', 'geographical, cultural, social, and economic diversity', 'governance and quality control', 'government', 'government colleges fees', 'government healthcare system', 'government rules', 'government-funded health sector', 'growing divide', 'health and wellness centers', 'health indicators', 'health infrastructure', 'health insurance coverage', 'health insurance scheme for central government employees', 'health insurance uptake', 'health policy', 'health professionals', 'health sector reform', 'health services', 'health system standardization', \"health workers' density\", 'healthcare', 'healthcare delivery', 'healthcare delivery and monitoring', 'healthcare expenditure of $2.7 per citizen per year', 'healthcare indicators', 'healthcare priority', 'healthcare reach', 'healthcare services', 'high quality tertiary healthcare service provider', 'high-income countries', 'highest number per population', 'human resource', 'human resources', 'implementing uniform standards', 'india', 'india medical tourism hub', 'india population', \"india's health indicators\", \"india's progress toward universal health coverage and sdgs\", 'indian public health standards', 'indian systems of medicine', 'indian-born physicians', 'indian-trained physicians', 'indians with money', 'india’s health system', 'india’s sdg goals', 'indigenously developed systems', 'individual informal provider clinics', 'individualized mentoring', 'influx of $3 billion', 'informal providers', 'initiatives', 'innovations in digital technology', 'institutional capacity building', 'inter-state, urban-rural, and public-private sector divide', 'international patients', 'internationally accredited', 'internet density', 'issue', 'lack of focus on quality', 'lack of formal medical qualification or registration', 'lack of health insurance', 'lack of transparency in creating training schedules', 'land allocation', 'land allocation in prime urban locations', 'largest employer of doctors in india', 'leadership', 'leadership in healthcare', 'limited rules', 'live register for health personnel and infrastructure', 'local priorities', 'low retention rates', 'lower remuneration', 'major provider of health care in india', 'majority of indians', 'manufacturing locally using 3d printing', 'market-driven forces', 'maternal and child mortality', 'maximizing efficiencies at scale', 'medical colleges', 'medical devices', 'medical education', 'medical examination and procedures', 'medical tourism', 'medical tourism destination ranking', 'medical tourism industry', 'mental health', 'mental health privacy', 'mental health stigma', 'methodology', 'mobile health apps', 'monetary incentives', 'monitoring, evaluation and policy formulation', 'multi-factorial issue', 'multifactorial issue', 'narayana health', \"nation's healthcare needs\", 'national and state-level policies', 'national health insurance scheme (ayushman bharat)', 'national health mission (nhm)', 'national health protection mission', 'national medical commission', 'national medical council', 'national medical council india', 'national policy', 'necessary infrastructure', 'new cadres', 'nmc act', 'non-communicable diseases', 'non-hierarchical work environment', 'number of medical schools', 'nurses', 'ongoing training in clinical and social skills', 'online training', 'online training management information systems', 'oop expenditure', 'ophthalmic fundal examination online', 'opportunities', 'opportunities in unmet demand for healthcare services', 'out-of-pocket (oop) expenditure', 'overcoming challenges of personnel posting and training', 'pace and scale of healthcare technology adoption', 'paramedical councils', 'paramedical personnel', 'patient costs and profit margins', 'patients', 'paucity of skilled personnel', \"peer nations' health indicators\", 'performance targets and practice constraints', 'personalized care', 'personnel retention and motivation', 'personnel staying at district or state headquarters', 'pharmaceutical industries', 'physician assistant program in the us', 'policies to help india achieve sdgs', 'poor infrastructure', 'poor population', 'population diversity', 'population of 1.3 billion', 'positive evaluations from participants', 'preferential admission into residencies', 'preferred provider of care', 'primary care', 'primary health centers', 'primary, secondary and tertiary care', 'private corporate sector', 'private health sector', 'private health sector in the eighties and nineties', 'private health sector since the turn of the century', 'private sector', 'private sector remuneration', 'private sector services', 'provider who does not have a formal medical qualification or registration', 'public and private health sector systems', 'public health sector', 'public health system', 'public sector', 'publicly financed health insurance scheme', 'publicly funded purchasing of services', 'quality care', 'read approach', 'recent performance evaluation', 'recommendations', 'records and dashboards', 'regulation', 'regulation of health professionals', 'results', 'revised standards', 'risk factors', 'rmas', 'rural areas', 'rural medical assistants (rmas)', 'salary payments', 'scale', 'scale up model', 'secondary and tertiary care', 'self-management', 'services they are trained for', 'setting rules', 'share of doctors', 'shortage of protective equipment', 'similar schemes', 'single provider clinics', 'six to 24 months', 'skewed inter-state, urban-rural, and public-private sector divide', 'skilled health workforce', 'social, economic, and cultural norms', 'solo practitioners or small nursing homes', 'solo provider', 'sourcing health personnel native to communities', 'staff shortages', 'standards for remote orthopedic examinations', 'star doctors', 'state-of-the-art corporate hospitals', 'state-of-the-art hospitals', 'states', 'steps: readying materials, extracting data, analyzing findings', 'strengthening health infrastructure', 'strengthening the health infrastructure', 'successful use', 'supply chain issues', 'supportive care', 'sustainable development goals (sdgs)', 'system failings', 'systemic integration pathways', 'tele-monitoring of patients', 'telemedicine', 'telemedicine uptake', 'temporary nature of contracts', 'three-year diploma course', 'tier ii and iii cities', 'total health expenditure', 'trained personnel', 'training', 'training and retaining health personnel', 'training scheduling', 'transparency', 'trend towards medicalization and corporatization', 'trusted constant presence', 'two-year intermittent training initiative', 'underserved regions', 'unprecedented opportunity', 'upgrading skills of nurses', 'upskilling the existing workforce', 'urban areas', 'urban slums', 'urgent augmentation', 'us during covid-19 pandemic', 'us$60.6 billion', 'utilization capacity', 'vaccination program', 'vaccine availability', 'various states', 'viability', 'violence', 'violence against doctors', 'vulnerable populations', 'wearable, trackable technology', 'who recommended thresholds', 'who threshold of 44.5 doctors, nurses, and midwives per 10,000 population', 'workforce capability', 'working conditions', 'world class care', 'world health organization', 'world-class health facilities', 'young and early career doctors'], ['2005 and 2021', '56 articles', 'analyzing it to distill the findings', \"corresponding authors' experiential knowledge\", 'extensive literature search', 'extracting the data', 'foundation for the analysis', 'peer-reviewed journals', 'policy research', \"readying one's materials\"], ['accredited social health activists (asha)', 'anm', 'asha', 'auxiliary nurse midwives (anm)', 'communitization', 'education and training', 'employment status', 'evaluation of asha', 'female community health workers', 'five approaches', 'flexible financing', 'health systems perspective', 'improved management through capacity building', 'innovations in human resource management', 'monitoring progress against standards', 'nhm', 'number', 'outcomes', 'population coverage', 'primary healthcare', 'system constraints', 'task shifting', 'universal health coverage'], ['added costs', 'adequate compensation', 'assurance to patients', 'bearing the brunt of patient frustration', 'being in direct contact with patients', 'complex web', 'continuation of violence trend', 'defensive medicine practices', 'delays in attending patients', 'dissatisfied patients', 'government planning', 'healthcare personnel', 'inadequate physician compensation', 'increasing violence', 'intense focus', 'intense focus on specialization', 'low physician-to-patient ratio', 'mandatory advance payments', 'more patients than they can serve', 'ordering unnecessary tests and procedures', 'overwhelmed physicians', 'pharmaceutical companies', 'physicians', 'primary care physicians', 'private marketplace', 'profit motive', 'profit motive of private sector', 'providers', 'reversing violence trend', 'solving violence against physicians', 'specialization', 'system failure', 'underpaid physicians', 'underpaid physicians taking more patients', 'unethical practices', 'unethical practices by pharmaceutical companies', 'unnecessary referrals and prescriptions'], ['budget allocation target', 'budget allocation to healthcare', 'countries', 'domestic general government health expenditure', 'expenditure share target', 'families', 'gdp', 'government healthcare expenditure share', 'government of india', 'healthcare allocation 2023', 'healthcare expenditure in us', 'indian government', 'national health policy 2017', 'oop expenditures', 'population fraction', 'poverty due to healthcare expenses', 'total expenditure on health in india']]\n"
     ]
    }
   ],
   "source": [
    "communities_generator = nx.community.girvan_newman(G)\n",
    "top_level_communities = next(communities_generator)\n",
    "next_level_communities = next(communities_generator)\n",
    "communities = sorted(map(sorted, next_level_communities))\n",
    "print(\"Number of Communities = \", len(communities))\n",
    "print(communities)"
   ]
  },
  {
   "cell_type": "markdown",
   "metadata": {},
   "source": [
    "### Create a dataframe for community colors"
   ]
  },
  {
   "cell_type": "code",
   "execution_count": null,
   "metadata": {},
   "outputs": [],
   "source": [
    "!pip install seaborn"
   ]
  },
  {
   "cell_type": "code",
   "execution_count": 11,
   "metadata": {},
   "outputs": [
    {
     "data": {
      "text/html": [
       "<div>\n",
       "<style scoped>\n",
       "    .dataframe tbody tr th:only-of-type {\n",
       "        vertical-align: middle;\n",
       "    }\n",
       "\n",
       "    .dataframe tbody tr th {\n",
       "        vertical-align: top;\n",
       "    }\n",
       "\n",
       "    .dataframe thead th {\n",
       "        text-align: right;\n",
       "    }\n",
       "</style>\n",
       "<table border=\"1\" class=\"dataframe\">\n",
       "  <thead>\n",
       "    <tr style=\"text-align: right;\">\n",
       "      <th></th>\n",
       "      <th>node</th>\n",
       "      <th>color</th>\n",
       "      <th>group</th>\n",
       "    </tr>\n",
       "  </thead>\n",
       "  <tbody>\n",
       "    <tr>\n",
       "      <th>0</th>\n",
       "      <td>0.576 physicians per 1,000 population in 2000</td>\n",
       "      <td>#b9db57</td>\n",
       "      <td>1</td>\n",
       "    </tr>\n",
       "    <tr>\n",
       "      <th>1</th>\n",
       "      <td>0.7 public hospital beds per 100,000 people</td>\n",
       "      <td>#b9db57</td>\n",
       "      <td>1</td>\n",
       "    </tr>\n",
       "    <tr>\n",
       "      <th>2</th>\n",
       "      <td>1% of the gdp</td>\n",
       "      <td>#b9db57</td>\n",
       "      <td>1</td>\n",
       "    </tr>\n",
       "    <tr>\n",
       "      <th>3</th>\n",
       "      <td>1.28% of the gdp</td>\n",
       "      <td>#b9db57</td>\n",
       "      <td>1</td>\n",
       "    </tr>\n",
       "    <tr>\n",
       "      <th>4</th>\n",
       "      <td>2005</td>\n",
       "      <td>#b9db57</td>\n",
       "      <td>1</td>\n",
       "    </tr>\n",
       "    <tr>\n",
       "      <th>...</th>\n",
       "      <td>...</td>\n",
       "      <td>...</td>\n",
       "      <td>...</td>\n",
       "    </tr>\n",
       "    <tr>\n",
       "      <th>423</th>\n",
       "      <td>national health policy 2017</td>\n",
       "      <td>#5784db</td>\n",
       "      <td>5</td>\n",
       "    </tr>\n",
       "    <tr>\n",
       "      <th>424</th>\n",
       "      <td>oop expenditures</td>\n",
       "      <td>#5784db</td>\n",
       "      <td>5</td>\n",
       "    </tr>\n",
       "    <tr>\n",
       "      <th>425</th>\n",
       "      <td>population fraction</td>\n",
       "      <td>#5784db</td>\n",
       "      <td>5</td>\n",
       "    </tr>\n",
       "    <tr>\n",
       "      <th>426</th>\n",
       "      <td>poverty due to healthcare expenses</td>\n",
       "      <td>#5784db</td>\n",
       "      <td>5</td>\n",
       "    </tr>\n",
       "    <tr>\n",
       "      <th>427</th>\n",
       "      <td>total expenditure on health in india</td>\n",
       "      <td>#5784db</td>\n",
       "      <td>5</td>\n",
       "    </tr>\n",
       "  </tbody>\n",
       "</table>\n",
       "<p>428 rows × 3 columns</p>\n",
       "</div>"
      ],
      "text/plain": [
       "                                              node    color  group\n",
       "0    0.576 physicians per 1,000 population in 2000  #b9db57      1\n",
       "1      0.7 public hospital beds per 100,000 people  #b9db57      1\n",
       "2                                    1% of the gdp  #b9db57      1\n",
       "3                                 1.28% of the gdp  #b9db57      1\n",
       "4                                             2005  #b9db57      1\n",
       "..                                             ...      ...    ...\n",
       "423                    national health policy 2017  #5784db      5\n",
       "424                               oop expenditures  #5784db      5\n",
       "425                            population fraction  #5784db      5\n",
       "426             poverty due to healthcare expenses  #5784db      5\n",
       "427           total expenditure on health in india  #5784db      5\n",
       "\n",
       "[428 rows x 3 columns]"
      ]
     },
     "execution_count": 11,
     "metadata": {},
     "output_type": "execute_result"
    }
   ],
   "source": [
    "import seaborn as sns\n",
    "palette = \"hls\"\n",
    "\n",
    "## Now add these colors to communities and make another dataframe\n",
    "def colors2Community(communities) -> pd.DataFrame:\n",
    "    ## Define a color palette\n",
    "    p = sns.color_palette(palette, len(communities)).as_hex()\n",
    "    random.shuffle(p)\n",
    "    rows = []\n",
    "    group = 0\n",
    "    for community in communities:\n",
    "        color = p.pop()\n",
    "        group += 1\n",
    "        for node in community:\n",
    "            rows += [{\"node\": node, \"color\": color, \"group\": group}]\n",
    "    df_colors = pd.DataFrame(rows)\n",
    "    return df_colors\n",
    "\n",
    "\n",
    "colors = colors2Community(communities)\n",
    "colors"
   ]
  },
  {
   "cell_type": "markdown",
   "metadata": {},
   "source": [
    "### Add colors to the graph"
   ]
  },
  {
   "cell_type": "code",
   "execution_count": 12,
   "metadata": {},
   "outputs": [],
   "source": [
    "for index, row in colors.iterrows():\n",
    "    G.nodes[row['node']]['group'] = row['group']\n",
    "    G.nodes[row['node']]['color'] = row['color']\n",
    "    G.nodes[row['node']]['size'] = G.degree[row['node']]"
   ]
  },
  {
   "cell_type": "code",
   "execution_count": null,
   "metadata": {},
   "outputs": [],
   "source": [
    "!pip install pyvis"
   ]
  },
  {
   "cell_type": "code",
   "execution_count": 13,
   "metadata": {},
   "outputs": [
    {
     "name": "stdout",
     "output_type": "stream",
     "text": [
      "./docs/index.html\n"
     ]
    }
   ],
   "source": [
    "import os\n",
    "os.makedirs('./docs', exist_ok=True)\n",
    "from pyvis.network import Network\n",
    "\n",
    "graph_output_directory = \"./docs/index.html\"\n",
    "\n",
    "net = Network(\n",
    "    notebook=False,\n",
    "    # bgcolor=\"#1a1a1a\",\n",
    "    cdn_resources=\"remote\",\n",
    "    height=\"900px\",\n",
    "    width=\"100%\",\n",
    "    select_menu=True,\n",
    "    # font_color=\"#cccccc\",\n",
    "    filter_menu=False,\n",
    ")\n",
    "\n",
    "net.from_nx(G)\n",
    "# net.repulsion(node_distance=150, spring_length=400)\n",
    "net.force_atlas_2based(central_gravity=0.015, gravity=-31)\n",
    "# net.barnes_hut(gravity=-18100, central_gravity=5.05, spring_length=380)\n",
    "net.show_buttons(filter_=[\"physics\"])\n",
    "\n",
    "net.show(graph_output_directory, notebook=False)"
   ]
  },
  {
   "cell_type": "code",
   "execution_count": null,
   "metadata": {},
   "outputs": [],
   "source": []
  }
 ],
 "metadata": {
  "kernelspec": {
   "display_name": "Python 3",
   "language": "python",
   "name": "python3"
  },
  "language_info": {
   "codemirror_mode": {
    "name": "ipython",
    "version": 3
   },
   "file_extension": ".py",
   "mimetype": "text/x-python",
   "name": "python",
   "nbconvert_exporter": "python",
   "pygments_lexer": "ipython3",
   "version": "3.13.5"
  }
 },
 "nbformat": 4,
 "nbformat_minor": 2
}
