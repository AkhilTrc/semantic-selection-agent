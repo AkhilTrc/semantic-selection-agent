{
 "cells": [
  {
   "cell_type": "markdown",
   "metadata": {},
   "source": [
    "## Setup"
   ]
  },
  {
   "cell_type": "code",
   "execution_count": null,
   "metadata": {},
   "outputs": [],
   "source": [
    "!pip install langchain"
   ]
  },
  {
   "cell_type": "code",
   "execution_count": null,
   "metadata": {},
   "outputs": [],
   "source": [
    "!pip install -U langchain-community"
   ]
  },
  {
   "cell_type": "code",
   "execution_count": null,
   "metadata": {},
   "outputs": [],
   "source": [
    "!pip install unstructured"
   ]
  },
  {
   "cell_type": "code",
   "execution_count": null,
   "metadata": {},
   "outputs": [],
   "source": [
    "!pip install libmagic"
   ]
  },
  {
   "cell_type": "code",
   "execution_count": 1,
   "metadata": {},
   "outputs": [],
   "source": [
    "import pandas as pd\n",
    "import numpy as np\n",
    "import os\n",
    "from langchain.document_loaders import PyPDFLoader, UnstructuredPDFLoader, PyPDFium2Loader\n",
    "from langchain.document_loaders import PyPDFDirectoryLoader, DirectoryLoader\n",
    "from langchain.text_splitter import RecursiveCharacterTextSplitter\n",
    "from pathlib import Path\n",
    "import random\n",
    "\n",
    "## Input data directory\n",
    "data_dir = \"cureus\"\n",
    "inputdirectory = Path(f\"./data_input/{data_dir}\")\n",
    "## This is where the output csv files will be written\n",
    "out_dir = data_dir\n",
    "outputdirectory = Path(f\"./data_output/{out_dir}\")"
   ]
  },
  {
   "cell_type": "markdown",
   "metadata": {},
   "source": [
    "## Load Documents"
   ]
  },
  {
   "cell_type": "code",
   "execution_count": 2,
   "metadata": {},
   "outputs": [
    {
     "name": "stderr",
     "output_type": "stream",
     "text": [
      "  0%|          | 0/1 [00:00<?, ?it/s]libmagic is unavailable but assists in filetype detection. Please consider installing libmagic for better results.\n",
      "100%|██████████| 1/1 [00:02<00:00,  2.01s/it]"
     ]
    },
    {
     "name": "stdout",
     "output_type": "stream",
     "text": [
      "Number of chunks =  23\n",
      "policy research, consisting of readying one's materials, extracting the data, and analyzing it to distill the findings. An extensive literature search was performed, and 56 articles published in peer-reviewed journals between 2005 and 2021 were selected and analyzed. The corresponding authors' experiential knowledge served as the foundation for the analysis.\n"
     ]
    },
    {
     "name": "stderr",
     "output_type": "stream",
     "text": [
      "\n"
     ]
    }
   ],
   "source": [
    "## Dir PDF Loader\n",
    "# loader = PyPDFDirectoryLoader(inputdirectory)\n",
    "## File Loader\n",
    "# loader = PyPDFLoader(\"./data/MedicalDocuments/orf-path_health-n1.pdf\")\n",
    "loader = DirectoryLoader(inputdirectory, show_progress=True)\n",
    "documents = loader.load()\n",
    "\n",
    "splitter = RecursiveCharacterTextSplitter(\n",
    "    chunk_size=1500,\n",
    "    chunk_overlap=150,\n",
    "    length_function=len,\n",
    "    is_separator_regex=False,\n",
    ")\n",
    "\n",
    "pages = splitter.split_documents(documents)\n",
    "print(\"Number of chunks = \", len(pages))\n",
    "print(pages[3].page_content)\n"
   ]
  },
  {
   "cell_type": "markdown",
   "metadata": {},
   "source": [
    "## Create a dataframe of all the chunks"
   ]
  },
  {
   "cell_type": "code",
   "execution_count": null,
   "metadata": {},
   "outputs": [],
   "source": [
    "!pip install yachalk"
   ]
  },
  {
   "cell_type": "code",
   "execution_count": 3,
   "metadata": {},
   "outputs": [
    {
     "name": "stdout",
     "output_type": "stream",
     "text": [
      "(23, 3)\n"
     ]
    },
    {
     "data": {
      "text/html": [
       "<div>\n",
       "<style scoped>\n",
       "    .dataframe tbody tr th:only-of-type {\n",
       "        vertical-align: middle;\n",
       "    }\n",
       "\n",
       "    .dataframe tbody tr th {\n",
       "        vertical-align: top;\n",
       "    }\n",
       "\n",
       "    .dataframe thead th {\n",
       "        text-align: right;\n",
       "    }\n",
       "</style>\n",
       "<table border=\"1\" class=\"dataframe\">\n",
       "  <thead>\n",
       "    <tr style=\"text-align: right;\">\n",
       "      <th></th>\n",
       "      <th>text</th>\n",
       "      <th>source</th>\n",
       "      <th>chunk_id</th>\n",
       "    </tr>\n",
       "  </thead>\n",
       "  <tbody>\n",
       "    <tr>\n",
       "      <th>0</th>\n",
       "      <td>Abstract India’s health indicators have improv...</td>\n",
       "      <td>data_input\\cureus\\cureus-0015-00000040274.txt</td>\n",
       "      <td>5f490ea1f9f34632a819815c56a0e21d</td>\n",
       "    </tr>\n",
       "    <tr>\n",
       "      <th>1</th>\n",
       "      <td>Categories: Public Health, Epidemiology/Public...</td>\n",
       "      <td>data_input\\cureus\\cureus-0015-00000040274.txt</td>\n",
       "      <td>08ec3fd889ee49de99d90a7f9954eae1</td>\n",
       "    </tr>\n",
       "    <tr>\n",
       "      <th>2</th>\n",
       "      <td>Introduction And Background India’s health ind...</td>\n",
       "      <td>data_input\\cureus\\cureus-0015-00000040274.txt</td>\n",
       "      <td>40617619930b48adb78cb41d2eb26919</td>\n",
       "    </tr>\n",
       "    <tr>\n",
       "      <th>3</th>\n",
       "      <td>policy research, consisting of readying one's ...</td>\n",
       "      <td>data_input\\cureus\\cureus-0015-00000040274.txt</td>\n",
       "      <td>0c9d45a719af411681da6f9296c50560</td>\n",
       "    </tr>\n",
       "    <tr>\n",
       "      <th>4</th>\n",
       "      <td>Review Overview of the public and private heal...</td>\n",
       "      <td>data_input\\cureus\\cureus-0015-00000040274.txt</td>\n",
       "      <td>dc410d30cc3746a480d294c29c64e5fa</td>\n",
       "    </tr>\n",
       "  </tbody>\n",
       "</table>\n",
       "</div>"
      ],
      "text/plain": [
       "                                                text  \\\n",
       "0  Abstract India’s health indicators have improv...   \n",
       "1  Categories: Public Health, Epidemiology/Public...   \n",
       "2  Introduction And Background India’s health ind...   \n",
       "3  policy research, consisting of readying one's ...   \n",
       "4  Review Overview of the public and private heal...   \n",
       "\n",
       "                                          source  \\\n",
       "0  data_input\\cureus\\cureus-0015-00000040274.txt   \n",
       "1  data_input\\cureus\\cureus-0015-00000040274.txt   \n",
       "2  data_input\\cureus\\cureus-0015-00000040274.txt   \n",
       "3  data_input\\cureus\\cureus-0015-00000040274.txt   \n",
       "4  data_input\\cureus\\cureus-0015-00000040274.txt   \n",
       "\n",
       "                           chunk_id  \n",
       "0  5f490ea1f9f34632a819815c56a0e21d  \n",
       "1  08ec3fd889ee49de99d90a7f9954eae1  \n",
       "2  40617619930b48adb78cb41d2eb26919  \n",
       "3  0c9d45a719af411681da6f9296c50560  \n",
       "4  dc410d30cc3746a480d294c29c64e5fa  "
      ]
     },
     "execution_count": 3,
     "metadata": {},
     "output_type": "execute_result"
    }
   ],
   "source": [
    "from helpers.df_helpers import documents2Dataframe\n",
    "df = documents2Dataframe(pages)\n",
    "print(df.shape)\n",
    "df.head()"
   ]
  },
  {
   "cell_type": "markdown",
   "metadata": {},
   "source": [
    "## Extract Concepts"
   ]
  },
  {
   "cell_type": "code",
   "execution_count": 4,
   "metadata": {},
   "outputs": [],
   "source": [
    "## This function uses the helpers/prompt function to extract concepts from text\n",
    "from helpers.df_helpers import df2Graph\n",
    "from helpers.df_helpers import graph2Df"
   ]
  },
  {
   "cell_type": "markdown",
   "metadata": {},
   "source": [
    "If regenerate is set to True then the dataframes are regenerated and Both the dataframes are written in the csv format so we dont have to calculate them again. \n",
    "\n",
    "        dfne = dataframe of edges\n",
    "\n",
    "        df = dataframe of chunks\n",
    "\n",
    "\n",
    "Else the dataframes are read from the output directory"
   ]
  },
  {
   "cell_type": "code",
   "execution_count": 5,
   "metadata": {},
   "outputs": [
    {
     "name": "stdout",
     "output_type": "stream",
     "text": [
      "(342, 5)\n"
     ]
    },
    {
     "data": {
      "text/html": [
       "<div>\n",
       "<style scoped>\n",
       "    .dataframe tbody tr th:only-of-type {\n",
       "        vertical-align: middle;\n",
       "    }\n",
       "\n",
       "    .dataframe tbody tr th {\n",
       "        vertical-align: top;\n",
       "    }\n",
       "\n",
       "    .dataframe thead th {\n",
       "        text-align: right;\n",
       "    }\n",
       "</style>\n",
       "<table border=\"1\" class=\"dataframe\">\n",
       "  <thead>\n",
       "    <tr style=\"text-align: right;\">\n",
       "      <th></th>\n",
       "      <th>node_1</th>\n",
       "      <th>node_2</th>\n",
       "      <th>edge</th>\n",
       "      <th>chunk_id</th>\n",
       "      <th>count</th>\n",
       "    </tr>\n",
       "  </thead>\n",
       "  <tbody>\n",
       "    <tr>\n",
       "      <th>0</th>\n",
       "      <td>india</td>\n",
       "      <td>health indicators</td>\n",
       "      <td>India's health indicators have improved in rec...</td>\n",
       "      <td>5f490ea1f9f34632a819815c56a0e21d</td>\n",
       "      <td>4</td>\n",
       "    </tr>\n",
       "    <tr>\n",
       "      <th>1</th>\n",
       "      <td>india</td>\n",
       "      <td>population</td>\n",
       "      <td>India is a country with a population of 1.3 bi...</td>\n",
       "      <td>5f490ea1f9f34632a819815c56a0e21d</td>\n",
       "      <td>4</td>\n",
       "    </tr>\n",
       "    <tr>\n",
       "      <th>2</th>\n",
       "      <td>active health workers</td>\n",
       "      <td>doctors</td>\n",
       "      <td>Active health workers density includes doctors.</td>\n",
       "      <td>5f490ea1f9f34632a819815c56a0e21d</td>\n",
       "      <td>4</td>\n",
       "    </tr>\n",
       "    <tr>\n",
       "      <th>3</th>\n",
       "      <td>active health workers</td>\n",
       "      <td>nurses/midwives</td>\n",
       "      <td>Active health workers density includes nurses/...</td>\n",
       "      <td>5f490ea1f9f34632a819815c56a0e21d</td>\n",
       "      <td>4</td>\n",
       "    </tr>\n",
       "    <tr>\n",
       "      <th>4</th>\n",
       "      <td>doctors and nurses/midwives density</td>\n",
       "      <td>5.0 and 6.0 respectively per 10,000 persons</td>\n",
       "      <td>The density of doctors and nurses/midwives in ...</td>\n",
       "      <td>5f490ea1f9f34632a819815c56a0e21d</td>\n",
       "      <td>4</td>\n",
       "    </tr>\n",
       "  </tbody>\n",
       "</table>\n",
       "</div>"
      ],
      "text/plain": [
       "                                node_1  \\\n",
       "0                                india   \n",
       "1                                india   \n",
       "2                active health workers   \n",
       "3                active health workers   \n",
       "4  doctors and nurses/midwives density   \n",
       "\n",
       "                                        node_2  \\\n",
       "0                            health indicators   \n",
       "1                                   population   \n",
       "2                                      doctors   \n",
       "3                              nurses/midwives   \n",
       "4  5.0 and 6.0 respectively per 10,000 persons   \n",
       "\n",
       "                                                edge  \\\n",
       "0  India's health indicators have improved in rec...   \n",
       "1  India is a country with a population of 1.3 bi...   \n",
       "2    Active health workers density includes doctors.   \n",
       "3  Active health workers density includes nurses/...   \n",
       "4  The density of doctors and nurses/midwives in ...   \n",
       "\n",
       "                           chunk_id  count  \n",
       "0  5f490ea1f9f34632a819815c56a0e21d      4  \n",
       "1  5f490ea1f9f34632a819815c56a0e21d      4  \n",
       "2  5f490ea1f9f34632a819815c56a0e21d      4  \n",
       "3  5f490ea1f9f34632a819815c56a0e21d      4  \n",
       "4  5f490ea1f9f34632a819815c56a0e21d      4  "
      ]
     },
     "execution_count": 5,
     "metadata": {},
     "output_type": "execute_result"
    }
   ],
   "source": [
    "## To regenerate the graph with LLM, set this to True\n",
    "regenerate = True\n",
    "\n",
    "if regenerate:\n",
    "    concepts_list = df2Graph(df, model='gpt-4.1-mini')\n",
    "    dfg1 = graph2Df(concepts_list)\n",
    "    if not os.path.exists(outputdirectory):\n",
    "        os.makedirs(outputdirectory)\n",
    "    \n",
    "    dfg1.to_csv(outputdirectory/\"graph.csv\", sep=\"|\", index=False)\n",
    "    df.to_csv(outputdirectory/\"chunks.csv\", sep=\"|\", index=False)\n",
    "else:\n",
    "    dfg1 = pd.read_csv(outputdirectory/\"graph.csv\", sep=\"|\")\n",
    "\n",
    "dfg1.replace(\"\", np.nan, inplace=True)\n",
    "dfg1.dropna(subset=[\"node_1\", \"node_2\", 'edge'], inplace=True)\n",
    "dfg1['count'] = 4 \n",
    "## Increasing the weight of the relation to 4. \n",
    "## We will assign the weight of 1 when later the contextual proximity will be calculated.  \n",
    "print(dfg1.shape)\n",
    "dfg1.head()"
   ]
  },
  {
   "cell_type": "markdown",
   "metadata": {},
   "source": [
    "## Calculating contextual proximity"
   ]
  },
  {
   "cell_type": "code",
   "execution_count": 6,
   "metadata": {},
   "outputs": [
    {
     "data": {
      "text/html": [
       "<div>\n",
       "<style scoped>\n",
       "    .dataframe tbody tr th:only-of-type {\n",
       "        vertical-align: middle;\n",
       "    }\n",
       "\n",
       "    .dataframe tbody tr th {\n",
       "        vertical-align: top;\n",
       "    }\n",
       "\n",
       "    .dataframe thead th {\n",
       "        text-align: right;\n",
       "    }\n",
       "</style>\n",
       "<table border=\"1\" class=\"dataframe\">\n",
       "  <thead>\n",
       "    <tr style=\"text-align: right;\">\n",
       "      <th></th>\n",
       "      <th>node_1</th>\n",
       "      <th>node_2</th>\n",
       "      <th>chunk_id</th>\n",
       "      <th>count</th>\n",
       "      <th>edge</th>\n",
       "    </tr>\n",
       "  </thead>\n",
       "  <tbody>\n",
       "    <tr>\n",
       "      <th>12031</th>\n",
       "      <td>young and early career doctors</td>\n",
       "      <td>performance targets and practice constraints</td>\n",
       "      <td>3af80fd9ec0042a8931dbf169083d0a7,3af80fd9ec004...</td>\n",
       "      <td>2</td>\n",
       "      <td>contextual proximity</td>\n",
       "    </tr>\n",
       "    <tr>\n",
       "      <th>12034</th>\n",
       "      <td>young and early career doctors</td>\n",
       "      <td>private sector</td>\n",
       "      <td>3af80fd9ec0042a8931dbf169083d0a7,3af80fd9ec004...</td>\n",
       "      <td>3</td>\n",
       "      <td>contextual proximity</td>\n",
       "    </tr>\n",
       "    <tr>\n",
       "      <th>12037</th>\n",
       "      <td>émigré physician workforce</td>\n",
       "      <td>ayushman bharat</td>\n",
       "      <td>db669c8a039e4adab1000ba092b6dceb,db669c8a039e4...</td>\n",
       "      <td>5</td>\n",
       "      <td>contextual proximity</td>\n",
       "    </tr>\n",
       "    <tr>\n",
       "      <th>12039</th>\n",
       "      <td>émigré physician workforce</td>\n",
       "      <td>doctors</td>\n",
       "      <td>db669c8a039e4adab1000ba092b6dceb,db669c8a039e4...</td>\n",
       "      <td>2</td>\n",
       "      <td>contextual proximity</td>\n",
       "    </tr>\n",
       "    <tr>\n",
       "      <th>12052</th>\n",
       "      <td>émigré physician workforce</td>\n",
       "      <td>similar schemes</td>\n",
       "      <td>db669c8a039e4adab1000ba092b6dceb,db669c8a039e4...</td>\n",
       "      <td>2</td>\n",
       "      <td>contextual proximity</td>\n",
       "    </tr>\n",
       "  </tbody>\n",
       "</table>\n",
       "</div>"
      ],
      "text/plain": [
       "                               node_1  \\\n",
       "12031  young and early career doctors   \n",
       "12034  young and early career doctors   \n",
       "12037      émigré physician workforce   \n",
       "12039      émigré physician workforce   \n",
       "12052      émigré physician workforce   \n",
       "\n",
       "                                             node_2  \\\n",
       "12031  performance targets and practice constraints   \n",
       "12034                                private sector   \n",
       "12037                               ayushman bharat   \n",
       "12039                                       doctors   \n",
       "12052                               similar schemes   \n",
       "\n",
       "                                                chunk_id  count  \\\n",
       "12031  3af80fd9ec0042a8931dbf169083d0a7,3af80fd9ec004...      2   \n",
       "12034  3af80fd9ec0042a8931dbf169083d0a7,3af80fd9ec004...      3   \n",
       "12037  db669c8a039e4adab1000ba092b6dceb,db669c8a039e4...      5   \n",
       "12039  db669c8a039e4adab1000ba092b6dceb,db669c8a039e4...      2   \n",
       "12052  db669c8a039e4adab1000ba092b6dceb,db669c8a039e4...      2   \n",
       "\n",
       "                       edge  \n",
       "12031  contextual proximity  \n",
       "12034  contextual proximity  \n",
       "12037  contextual proximity  \n",
       "12039  contextual proximity  \n",
       "12052  contextual proximity  "
      ]
     },
     "execution_count": 6,
     "metadata": {},
     "output_type": "execute_result"
    }
   ],
   "source": [
    "def contextual_proximity(df: pd.DataFrame) -> pd.DataFrame:\n",
    "    ## Melt the dataframe into a list of nodes\n",
    "    dfg_long = pd.melt(\n",
    "        df, id_vars=[\"chunk_id\"], value_vars=[\"node_1\", \"node_2\"], value_name=\"node\"\n",
    "    )\n",
    "    dfg_long.drop(columns=[\"variable\"], inplace=True)\n",
    "    # Self join with chunk id as the key will create a link between terms occuring in the same text chunk.\n",
    "    dfg_wide = pd.merge(dfg_long, dfg_long, on=\"chunk_id\", suffixes=(\"_1\", \"_2\"))\n",
    "    # drop self loops\n",
    "    self_loops_drop = dfg_wide[dfg_wide[\"node_1\"] == dfg_wide[\"node_2\"]].index\n",
    "    dfg2 = dfg_wide.drop(index=self_loops_drop).reset_index(drop=True)\n",
    "    ## Group and count edges.\n",
    "    dfg2 = (\n",
    "        dfg2.groupby([\"node_1\", \"node_2\"])\n",
    "        .agg({\"chunk_id\": [\",\".join, \"count\"]})\n",
    "        .reset_index()\n",
    "    )\n",
    "    dfg2.columns = [\"node_1\", \"node_2\", \"chunk_id\", \"count\"]\n",
    "    dfg2.replace(\"\", np.nan, inplace=True)\n",
    "    dfg2.dropna(subset=[\"node_1\", \"node_2\"], inplace=True)\n",
    "    # Drop edges with 1 count\n",
    "    dfg2 = dfg2[dfg2[\"count\"] != 1]\n",
    "    dfg2[\"edge\"] = \"contextual proximity\"\n",
    "    return dfg2\n",
    "\n",
    "\n",
    "dfg2 = contextual_proximity(dfg1)\n",
    "dfg2.tail()"
   ]
  },
  {
   "cell_type": "markdown",
   "metadata": {},
   "source": [
    "### Merge both the dataframes"
   ]
  },
  {
   "cell_type": "code",
   "execution_count": 7,
   "metadata": {},
   "outputs": [
    {
     "data": {
      "text/html": [
       "<div>\n",
       "<style scoped>\n",
       "    .dataframe tbody tr th:only-of-type {\n",
       "        vertical-align: middle;\n",
       "    }\n",
       "\n",
       "    .dataframe tbody tr th {\n",
       "        vertical-align: top;\n",
       "    }\n",
       "\n",
       "    .dataframe thead th {\n",
       "        text-align: right;\n",
       "    }\n",
       "</style>\n",
       "<table border=\"1\" class=\"dataframe\">\n",
       "  <thead>\n",
       "    <tr style=\"text-align: right;\">\n",
       "      <th></th>\n",
       "      <th>node_1</th>\n",
       "      <th>node_2</th>\n",
       "      <th>chunk_id</th>\n",
       "      <th>edge</th>\n",
       "      <th>count</th>\n",
       "    </tr>\n",
       "  </thead>\n",
       "  <tbody>\n",
       "    <tr>\n",
       "      <th>0</th>\n",
       "      <td>0.576 physicians per 1,000 population in 2000</td>\n",
       "      <td>for-profit private health sector</td>\n",
       "      <td>dc410d30cc3746a480d294c29c64e5fa,dc410d30cc374...</td>\n",
       "      <td>contextual proximity</td>\n",
       "      <td>4</td>\n",
       "    </tr>\n",
       "    <tr>\n",
       "      <th>1</th>\n",
       "      <td>0.576 physicians per 1,000 population in 2000</td>\n",
       "      <td>government-funded health sector</td>\n",
       "      <td>dc410d30cc3746a480d294c29c64e5fa,dc410d30cc374...</td>\n",
       "      <td>contextual proximity</td>\n",
       "      <td>3</td>\n",
       "    </tr>\n",
       "    <tr>\n",
       "      <th>2</th>\n",
       "      <td>0.576 physicians per 1,000 population in 2000</td>\n",
       "      <td>india</td>\n",
       "      <td>dc410d30cc3746a480d294c29c64e5fa,dc410d30cc374...</td>\n",
       "      <td>contextual proximity</td>\n",
       "      <td>2</td>\n",
       "    </tr>\n",
       "    <tr>\n",
       "      <th>3</th>\n",
       "      <td>0.576 physicians per 1,000 population in 2000</td>\n",
       "      <td>national health mission (nhm)</td>\n",
       "      <td>dc410d30cc3746a480d294c29c64e5fa,dc410d30cc374...</td>\n",
       "      <td>contextual proximity</td>\n",
       "      <td>2</td>\n",
       "    </tr>\n",
       "    <tr>\n",
       "      <th>4</th>\n",
       "      <td>0.7 public hospital beds per 100,000 people</td>\n",
       "      <td>for-profit private health sector</td>\n",
       "      <td>dc410d30cc3746a480d294c29c64e5fa,dc410d30cc374...</td>\n",
       "      <td>contextual proximity</td>\n",
       "      <td>4</td>\n",
       "    </tr>\n",
       "    <tr>\n",
       "      <th>...</th>\n",
       "      <td>...</td>\n",
       "      <td>...</td>\n",
       "      <td>...</td>\n",
       "      <td>...</td>\n",
       "      <td>...</td>\n",
       "    </tr>\n",
       "    <tr>\n",
       "      <th>4707</th>\n",
       "      <td>young and early career doctors</td>\n",
       "      <td>private sector</td>\n",
       "      <td>3af80fd9ec0042a8931dbf169083d0a7,3af80fd9ec004...</td>\n",
       "      <td>contextual proximity</td>\n",
       "      <td>3</td>\n",
       "    </tr>\n",
       "    <tr>\n",
       "      <th>4708</th>\n",
       "      <td>young and early career doctors</td>\n",
       "      <td>status and opportunity</td>\n",
       "      <td>3af80fd9ec0042a8931dbf169083d0a7</td>\n",
       "      <td>Most young and early career doctors face erosi...</td>\n",
       "      <td>4</td>\n",
       "    </tr>\n",
       "    <tr>\n",
       "      <th>4709</th>\n",
       "      <td>émigré physician workforce</td>\n",
       "      <td>ayushman bharat</td>\n",
       "      <td>db669c8a039e4adab1000ba092b6dceb,db669c8a039e4...</td>\n",
       "      <td>contextual proximity</td>\n",
       "      <td>5</td>\n",
       "    </tr>\n",
       "    <tr>\n",
       "      <th>4710</th>\n",
       "      <td>émigré physician workforce</td>\n",
       "      <td>doctors</td>\n",
       "      <td>db669c8a039e4adab1000ba092b6dceb,db669c8a039e4...</td>\n",
       "      <td>contextual proximity</td>\n",
       "      <td>2</td>\n",
       "    </tr>\n",
       "    <tr>\n",
       "      <th>4711</th>\n",
       "      <td>émigré physician workforce</td>\n",
       "      <td>similar schemes</td>\n",
       "      <td>db669c8a039e4adab1000ba092b6dceb,db669c8a039e4...</td>\n",
       "      <td>contextual proximity</td>\n",
       "      <td>2</td>\n",
       "    </tr>\n",
       "  </tbody>\n",
       "</table>\n",
       "<p>4712 rows × 5 columns</p>\n",
       "</div>"
      ],
      "text/plain": [
       "                                             node_1  \\\n",
       "0     0.576 physicians per 1,000 population in 2000   \n",
       "1     0.576 physicians per 1,000 population in 2000   \n",
       "2     0.576 physicians per 1,000 population in 2000   \n",
       "3     0.576 physicians per 1,000 population in 2000   \n",
       "4       0.7 public hospital beds per 100,000 people   \n",
       "...                                             ...   \n",
       "4707                 young and early career doctors   \n",
       "4708                 young and early career doctors   \n",
       "4709                     émigré physician workforce   \n",
       "4710                     émigré physician workforce   \n",
       "4711                     émigré physician workforce   \n",
       "\n",
       "                                node_2  \\\n",
       "0     for-profit private health sector   \n",
       "1      government-funded health sector   \n",
       "2                                india   \n",
       "3        national health mission (nhm)   \n",
       "4     for-profit private health sector   \n",
       "...                                ...   \n",
       "4707                    private sector   \n",
       "4708            status and opportunity   \n",
       "4709                   ayushman bharat   \n",
       "4710                           doctors   \n",
       "4711                   similar schemes   \n",
       "\n",
       "                                               chunk_id  \\\n",
       "0     dc410d30cc3746a480d294c29c64e5fa,dc410d30cc374...   \n",
       "1     dc410d30cc3746a480d294c29c64e5fa,dc410d30cc374...   \n",
       "2     dc410d30cc3746a480d294c29c64e5fa,dc410d30cc374...   \n",
       "3     dc410d30cc3746a480d294c29c64e5fa,dc410d30cc374...   \n",
       "4     dc410d30cc3746a480d294c29c64e5fa,dc410d30cc374...   \n",
       "...                                                 ...   \n",
       "4707  3af80fd9ec0042a8931dbf169083d0a7,3af80fd9ec004...   \n",
       "4708                   3af80fd9ec0042a8931dbf169083d0a7   \n",
       "4709  db669c8a039e4adab1000ba092b6dceb,db669c8a039e4...   \n",
       "4710  db669c8a039e4adab1000ba092b6dceb,db669c8a039e4...   \n",
       "4711  db669c8a039e4adab1000ba092b6dceb,db669c8a039e4...   \n",
       "\n",
       "                                                   edge  count  \n",
       "0                                  contextual proximity      4  \n",
       "1                                  contextual proximity      3  \n",
       "2                                  contextual proximity      2  \n",
       "3                                  contextual proximity      2  \n",
       "4                                  contextual proximity      4  \n",
       "...                                                 ...    ...  \n",
       "4707                               contextual proximity      3  \n",
       "4708  Most young and early career doctors face erosi...      4  \n",
       "4709                               contextual proximity      5  \n",
       "4710                               contextual proximity      2  \n",
       "4711                               contextual proximity      2  \n",
       "\n",
       "[4712 rows x 5 columns]"
      ]
     },
     "execution_count": 7,
     "metadata": {},
     "output_type": "execute_result"
    }
   ],
   "source": [
    "dfg = pd.concat([dfg1, dfg2], axis=0)\n",
    "dfg = (\n",
    "    dfg.groupby([\"node_1\", \"node_2\"])\n",
    "    .agg({\"chunk_id\": \",\".join, \"edge\": ','.join, 'count': 'sum'})\n",
    "    .reset_index()\n",
    ")\n",
    "dfg"
   ]
  },
  {
   "cell_type": "markdown",
   "metadata": {},
   "source": [
    "## Calculate the NetworkX Graph"
   ]
  },
  {
   "cell_type": "code",
   "execution_count": 8,
   "metadata": {},
   "outputs": [
    {
     "data": {
      "text/plain": [
       "(450,)"
      ]
     },
     "execution_count": 8,
     "metadata": {},
     "output_type": "execute_result"
    }
   ],
   "source": [
    "nodes = pd.concat([dfg['node_1'], dfg['node_2']], axis=0).unique()\n",
    "nodes.shape"
   ]
  },
  {
   "cell_type": "code",
   "execution_count": 9,
   "metadata": {},
   "outputs": [],
   "source": [
    "import networkx as nx\n",
    "G = nx.Graph()\n",
    "\n",
    "## Add nodes to the graph\n",
    "for node in nodes:\n",
    "    G.add_node(\n",
    "        str(node)\n",
    "    )\n",
    "\n",
    "## Add edges to the graph\n",
    "for index, row in dfg.iterrows():\n",
    "    G.add_edge(\n",
    "        str(row[\"node_1\"]),\n",
    "        str(row[\"node_2\"]),\n",
    "        title=row[\"edge\"],\n",
    "        weight=row['count']/4\n",
    "    )"
   ]
  },
  {
   "cell_type": "markdown",
   "metadata": {},
   "source": [
    "### Calculate communities for coloring the nodes"
   ]
  },
  {
   "cell_type": "code",
   "execution_count": 10,
   "metadata": {},
   "outputs": [
    {
     "name": "stdout",
     "output_type": "stream",
     "text": [
      "Number of Communities =  7\n",
      "[['0.576 physicians per 1,000 population in 2000', '0.7 public hospital beds per 100,000 people', '1% of the gdp', '279 medical colleges', '37% had any health insurance coverage in 2018', '44.5 doctors, nurses, and midwives per 10,000 population', '5.0 and 6.0 respectively per 10,000 persons', 'accredit health facilities', 'accurate data about manpower quantity and geospatial location', 'active health workers', 'active health workers’ density', 'amplify care reach', 'article', 'auxiliary nurse midwives', 'better health for all indians', 'better living conditions', 'booming medical tourism industry and medical schools', 'broad overarching policy', 'care delivery and monitoring', 'central government', 'clinical and social skills', 'cognitive platform', 'competency-based training', 'complex multifactorial issue', 'consumes 5.1% of the gdp', 'contractual government posts', 'control of non-communicable disease risk factors', 'corporate hospitals', 'corporate houses', 'corporate sector', 'data about practicing doctors', 'data extraction and analysis', 'deeper structural problems', 'diabetes capital of the world', 'digital divide', 'digital literacy', 'digital technologies', 'disease profiles', 'district or state headquarters', 'doctor-to-population ratio of 1:1,000', 'doctors and nurses/midwives density', 'doctors graduating from private medical colleges', 'doctors’ professional autonomy', 'dominant provider of healthcare', 'economic weaker sections care', 'efficiency and effectiveness of utilization', 'enforce rules', 'ensuring india’s health system ability', 'equipment', 'erratic posting of personnel', 'establishments providing medical care often manned by solo providers without formal qualification', 'exist in urban areas', 'federal government’s allocation in 2022', 'federal health budget', 'fees', 'few implementations', 'financed by out-of-pocket (oop) expenditure', 'financial allocation', 'first choice of care', 'focus', 'for-profit private health sector', 'formal medical qualification', 'government', 'government healthcare system', 'government-funded health sector', 'health indicators', 'health infrastructure', 'health insurance scheme for central government employees', 'health policy', 'health sector reform', 'health services', 'health services from private sector', 'health worker distribution', 'healthcare', 'healthcare delivery', 'healthcare expenditure of $2.7 per citizen per year', 'healthcare for vulnerable populations', 'healthcare indicators unchanged', 'healthcare infrastructure', 'healthcare initiatives reach', 'healthcare issue', 'human resource', 'human resources', 'implementing uniform standards', 'increase', 'increase quantum of services provided', 'india', \"india's health workers density\", \"india's progress toward universal health coverage and sdgs\", \"india's sdgs\", 'indian public health standards', 'india’s health system', 'individualized mentoring', 'influx of $3 billion', 'informal provider clinics', 'informal providers', 'infrastructure investment', 'institutional capacity building', 'inter-state, urban-rural, and public-private sector divide', 'internationally accredited, high quality, tertiary healthcare service provider', 'internet density 25.3%', 'internet density 97.9%', 'lack of focus on quality', 'lack of health insurance', 'lack of transparency in training schedules', 'land allocation', 'leadership in digital health', 'limited uptake', 'live register for health personnel and infrastructure', 'local priorities', 'major provider of health care in india', 'majority of indians', 'market-driven forces', 'maternal and child mortality', 'maximizing efficiencies at scale', 'medical colleges', 'medical schools', 'medical tourism', 'medical tourism industry', 'medicalization and corporatization', 'mental health', 'mental health issues', 'methodology', 'model for national health insurance', 'multi-factorial issue', 'narayana health', \"nation's healthcare needs\", 'national and state-level policies, working conditions, staff shortages', 'national health insurance scheme (ayushman bharat)', 'national health mission (nhm)', 'national health protection mission', 'national medical council', 'national policy', 'native residents of communities', 'newly minted', 'non-communicable diseases', 'non-hierarchical work environment', 'non-rural areas', 'nurses/midwives', 'oncology healthcare delivery', 'ongoing training', 'online training', 'oop expenditure', 'opportunities', 'overcoming challenge of personnel deployment', 'overcoming mental health stigma', 'partnerships with private sector', 'patients', 'patients from around the world', 'paucity of skilled personnel', 'performance targets and practice constraints', 'personnel', 'personnel retention and motivation', 'personnel stay at district or state headquarters', 'population', 'population 34%', 'population 66%', 'population diversity', 'positive participant feedback', 'practice rules', 'primary care', 'prioritizing telemedicine', 'privacy', 'privacy in mental health care', 'private health sector', 'private medical colleges', 'private sector', 'provider', 'providing affordable, accessible, quality care', 'public health sector', 'public health system', 'public health system capacity', 'public sector', 'purchases services from private sector', 'range from world-class health facilities to informal provider clinics', 'read approach', 'recent increase', 'recommend policies', 'recommendations', 'regulation', 'revised standards', 'risk factors', 'rural areas', 'secondary and tertiary care', 'secondary care', 'services', 'services they have been trained for', 'single provider clinics', 'skilled health workforce', 'social, economic, and cultural norms', 'solo practitioners or small nursing homes', 'sourcing health personnel', 'standardization of the health system', 'star doctors', 'started in 2005', 'state-of-the-art hospitals', 'status and opportunity', 'stigma', 'strengthening health infrastructure', 'sustainable development goals (sdgs)', 'synergized services', 'systematic approach', 'telemedicine', 'tertiary care', 'those with the money to pay unassisted', 'tier ii and iii cities', 'total health expenditure', 'trained personnel', 'training and retaining health personnel', 'training initiative evaluations', 'transparency', 'transparency, training, infrastructure, standards, policy', 'transparent governance', 'trusted constant presence', 'two-year intermittent training initiative', 'underfunded with 1.28% of the gdp', 'university of nottingham faculty', 'unmet demand for healthcare services', 'upskilling existing workforce', 'urban areas', 'urban slums', 'urgent augmentation', 'utilization capacity', 'who recommended thresholds', 'who threshold', 'workforce capability', 'working conditions', 'world health organization', 'world-class health facilities', 'young and early career doctors'], ['1.29%', '1.29% of its budget', '3.84% of its gdp', 'brazil 4%', \"china's 2.9%\", 'close to 18% of gdp', 'commitment to increase healthcare allocation to 2.5% by 2025', 'domestic general government health expenditure', 'government healthcare expenditure share', 'government of india healthcare budget allocation', 'health expenditure in the us', 'increasing share to align with other middle-income countries and neighbors', 'indian government healthcare allocation 2024', 'indian government traditional healthcare expenditure share', 'just over $30 billion', 'many families falling into poverty', 'national health policy 2017', 'one-quarter of the population', 'oop expenditures by consumers', 'oop healthcare expenditures', 'rest of healthcare expenditure', 'total expenditure on health in india', 'us 8.6%', 'us healthcare coverage'], ['18 months training', '23 days initial training', '275,000 contractual personnel', '3d printing', 'accredited social health activists (asha)', 'additional on-the-job need-based short training', 'ai-embedded logarithms', 'anm', 'anms', 'application of technology', 'asha', 'ashas', 'auxiliary nurse midwives (anm)', 'ayushman bharat', 'ayushman bharat scheme', 'broader system constraints', 'centralizing control', 'clarity regarding interplay', 'communitization', 'community health providers', 'consultations with healthcare providers', 'contractors', 'contractual basis', 'contractual employees', 'contractual posts in rural areas', 'coordinated implementation', 'covid-19 pandemic', 'cultural diversity', 'delayed salary payments', 'delivery of healthcare', 'delivery of medicines to communities', 'delivery of vital healthcare', 'demotivating', 'demotivating working conditions', 'demotivation', 'diagnosis of covid-19 disease', 'doctors', 'doctors trained in indian systems of medicine', 'drones', 'economic diversity', 'evaluation of ashas', 'female community health workers', 'few overall positive findings', 'flexible financing', 'from anms to ashas', 'geographical diversity', 'government employees', 'health challenges', 'health professionals', 'health sector', 'health systems perspective', 'healthcare services', 'high dissatisfaction levels', 'high school graduates', 'high-income countries', 'improved management', 'incidents of violence by communities', 'increase of telemedicine uptake', \"india's progress toward sdg goals\", 'indian-born physicians', 'innovations in digital technology', 'innovations in human resource management', 'key cadre', 'low retention rates', 'lower remuneration', 'manufacturing protective equipment locally', 'medical commission', 'medical education', 'medical education adaptation', 'mixed results', 'monetary incentives', 'monitoring progress against standards', 'multiple new cadres', 'national medical council (nmc)', 'national medical council india', 'nhm', 'nmc act', 'nurses', 'one for every 1,000 population', 'one million', 'ophthalmic fundal examination online', 'other reforms', 'pace and scale of digital healthcare process', 'pandemic', 'payment proportionate to work performed', 'performance evaluation', 'pharmaceutical industries', 'physicians trained in india', 'poor infrastructure', 'population of 5,000', 'population of up to 20,000', 'populations denied care otherwise', 'preferential admission into residencies', 'primary care from health and wellness centers', 'primary healthcare', 'private contractors', 'private corporate sector', 'private providers', 'publicly financed health insurance scheme', 'publicly funded purchasing of services', 'remote orthopedic examinations', 'salary', 'school up to eighth grade', 'scope of medical examination and procedures', 'secondary and tertiary care services from participating private health facilities', 'shortage of protective equipment', 'similar schemes', 'social diversity', 'standards', 'states', 'stewardship for improved governance and quality control', 'supply chain issues', 'system failings', 'task shifting', 'temporary nature of contracts', 'ulopathic medicine bridge courses', 'universal health coverage', 'various states', 'working conditions in public sector', 'émigré physician workforce'], ['2005 to 2021', '56 articles', 'analyzed', 'analyzing the data', \"corresponding authors' experiential knowledge\", 'extracting the data', 'foundation for analysis', 'literature search', 'peer-reviewed journals', 'policy research', \"readying one's materials\"], ['adds to costs', 'adequately compensated physicians', 'assure patients', 'bear brunt of agitated patients', 'cannot solve violence trend', 'complex web', 'defensive medicine practices', 'delays in attending patients', 'direct contact with patients', 'dissatisfied patients', 'healthcare personnel', 'increasing violence', 'intense focus on specialization', 'low physician-to-patient ratio', 'mandatory advance payments', 'ordering unnecessary tests and procedures', 'pharmaceutical companies', 'physicians', 'private marketplace', 'profit motive of the private sector', 'providers', 'reduce violence trend', 'reverse violence trend', 'strike out at failing system', 'take on more patients than they can reasonably serve', 'thoughtful government planning', 'underpaid physicians', 'unethical practices', 'unnecessary referrals and prescriptions', 'violence against healthcare personnel', 'worrisome new trend'], ['behavior modification', 'covid-19 vaccination', 'digital technology', 'digital track and trace system', 'evin', 'indigenous development', 'medical devices', 'medical devices, mobile health apps, and wearable, trackable technology', 'mobile health apps', 'monitoring, evaluation and policy formulation', 'national immunization program', 'online training management information systems', 'personalized care', 'records and dashboards', 'self-management', 'tele-monitoring of patients', 'training for new personnel', 'vaccination program', 'wearable, trackable technology'], ['courses', 'duration from six to 24 months', 'initial evaluation', 'nascent', 'new cadres', 'paramedical councils', 'paramedical personnel', 'physician assistant program in the us', 'primary health centers', 'rural medical assistants (rmas)', 'scale of such initiatives', 'supportive care in health facilities and homes', 'systemic integration pathways', 'three-year diploma course', 'undefined']]\n"
     ]
    }
   ],
   "source": [
    "communities_generator = nx.community.girvan_newman(G)\n",
    "top_level_communities = next(communities_generator)\n",
    "next_level_communities = next(communities_generator)\n",
    "communities = sorted(map(sorted, next_level_communities))\n",
    "print(\"Number of Communities = \", len(communities))\n",
    "print(communities)"
   ]
  },
  {
   "cell_type": "markdown",
   "metadata": {},
   "source": [
    "### Create a dataframe for community colors"
   ]
  },
  {
   "cell_type": "code",
   "execution_count": 11,
   "metadata": {},
   "outputs": [
    {
     "name": "stdout",
     "output_type": "stream",
     "text": [
      "Defaulting to user installation because normal site-packages is not writeable\n",
      "Collecting seaborn\n",
      "  Downloading seaborn-0.13.2-py3-none-any.whl.metadata (5.4 kB)\n",
      "Requirement already satisfied: numpy!=1.24.0,>=1.20 in c:\\users\\trakh\\appdata\\local\\packages\\pythonsoftwarefoundation.python.3.13_qbz5n2kfra8p0\\localcache\\local-packages\\python313\\site-packages (from seaborn) (2.2.1)\n",
      "Requirement already satisfied: pandas>=1.2 in c:\\users\\trakh\\appdata\\local\\packages\\pythonsoftwarefoundation.python.3.13_qbz5n2kfra8p0\\localcache\\local-packages\\python313\\site-packages (from seaborn) (2.2.3)\n",
      "Requirement already satisfied: matplotlib!=3.6.1,>=3.4 in c:\\users\\trakh\\appdata\\local\\packages\\pythonsoftwarefoundation.python.3.13_qbz5n2kfra8p0\\localcache\\local-packages\\python313\\site-packages (from seaborn) (3.10.3)\n",
      "Requirement already satisfied: contourpy>=1.0.1 in c:\\users\\trakh\\appdata\\local\\packages\\pythonsoftwarefoundation.python.3.13_qbz5n2kfra8p0\\localcache\\local-packages\\python313\\site-packages (from matplotlib!=3.6.1,>=3.4->seaborn) (1.3.2)\n",
      "Requirement already satisfied: cycler>=0.10 in c:\\users\\trakh\\appdata\\local\\packages\\pythonsoftwarefoundation.python.3.13_qbz5n2kfra8p0\\localcache\\local-packages\\python313\\site-packages (from matplotlib!=3.6.1,>=3.4->seaborn) (0.12.1)\n",
      "Requirement already satisfied: fonttools>=4.22.0 in c:\\users\\trakh\\appdata\\local\\packages\\pythonsoftwarefoundation.python.3.13_qbz5n2kfra8p0\\localcache\\local-packages\\python313\\site-packages (from matplotlib!=3.6.1,>=3.4->seaborn) (4.58.1)\n",
      "Requirement already satisfied: kiwisolver>=1.3.1 in c:\\users\\trakh\\appdata\\local\\packages\\pythonsoftwarefoundation.python.3.13_qbz5n2kfra8p0\\localcache\\local-packages\\python313\\site-packages (from matplotlib!=3.6.1,>=3.4->seaborn) (1.4.8)\n",
      "Requirement already satisfied: packaging>=20.0 in c:\\users\\trakh\\appdata\\local\\packages\\pythonsoftwarefoundation.python.3.13_qbz5n2kfra8p0\\localcache\\local-packages\\python313\\site-packages (from matplotlib!=3.6.1,>=3.4->seaborn) (24.2)\n",
      "Requirement already satisfied: pillow>=8 in c:\\users\\trakh\\appdata\\local\\packages\\pythonsoftwarefoundation.python.3.13_qbz5n2kfra8p0\\localcache\\local-packages\\python313\\site-packages (from matplotlib!=3.6.1,>=3.4->seaborn) (11.2.1)\n",
      "Requirement already satisfied: pyparsing>=2.3.1 in c:\\users\\trakh\\appdata\\local\\packages\\pythonsoftwarefoundation.python.3.13_qbz5n2kfra8p0\\localcache\\local-packages\\python313\\site-packages (from matplotlib!=3.6.1,>=3.4->seaborn) (3.2.3)\n",
      "Requirement already satisfied: python-dateutil>=2.7 in c:\\users\\trakh\\appdata\\local\\packages\\pythonsoftwarefoundation.python.3.13_qbz5n2kfra8p0\\localcache\\local-packages\\python313\\site-packages (from matplotlib!=3.6.1,>=3.4->seaborn) (2.9.0.post0)\n",
      "Requirement already satisfied: pytz>=2020.1 in c:\\users\\trakh\\appdata\\local\\packages\\pythonsoftwarefoundation.python.3.13_qbz5n2kfra8p0\\localcache\\local-packages\\python313\\site-packages (from pandas>=1.2->seaborn) (2025.2)\n",
      "Requirement already satisfied: tzdata>=2022.7 in c:\\users\\trakh\\appdata\\local\\packages\\pythonsoftwarefoundation.python.3.13_qbz5n2kfra8p0\\localcache\\local-packages\\python313\\site-packages (from pandas>=1.2->seaborn) (2025.2)\n",
      "Requirement already satisfied: six>=1.5 in c:\\users\\trakh\\appdata\\local\\packages\\pythonsoftwarefoundation.python.3.13_qbz5n2kfra8p0\\localcache\\local-packages\\python313\\site-packages (from python-dateutil>=2.7->matplotlib!=3.6.1,>=3.4->seaborn) (1.17.0)\n",
      "Downloading seaborn-0.13.2-py3-none-any.whl (294 kB)\n",
      "Installing collected packages: seaborn\n",
      "Successfully installed seaborn-0.13.2\n"
     ]
    }
   ],
   "source": [
    "!pip install seaborn"
   ]
  },
  {
   "cell_type": "code",
   "execution_count": 12,
   "metadata": {},
   "outputs": [
    {
     "data": {
      "text/html": [
       "<div>\n",
       "<style scoped>\n",
       "    .dataframe tbody tr th:only-of-type {\n",
       "        vertical-align: middle;\n",
       "    }\n",
       "\n",
       "    .dataframe tbody tr th {\n",
       "        vertical-align: top;\n",
       "    }\n",
       "\n",
       "    .dataframe thead th {\n",
       "        text-align: right;\n",
       "    }\n",
       "</style>\n",
       "<table border=\"1\" class=\"dataframe\">\n",
       "  <thead>\n",
       "    <tr style=\"text-align: right;\">\n",
       "      <th></th>\n",
       "      <th>node</th>\n",
       "      <th>color</th>\n",
       "      <th>group</th>\n",
       "    </tr>\n",
       "  </thead>\n",
       "  <tbody>\n",
       "    <tr>\n",
       "      <th>0</th>\n",
       "      <td>0.576 physicians per 1,000 population in 2000</td>\n",
       "      <td>#57dbaa</td>\n",
       "      <td>1</td>\n",
       "    </tr>\n",
       "    <tr>\n",
       "      <th>1</th>\n",
       "      <td>0.7 public hospital beds per 100,000 people</td>\n",
       "      <td>#57dbaa</td>\n",
       "      <td>1</td>\n",
       "    </tr>\n",
       "    <tr>\n",
       "      <th>2</th>\n",
       "      <td>1% of the gdp</td>\n",
       "      <td>#57dbaa</td>\n",
       "      <td>1</td>\n",
       "    </tr>\n",
       "    <tr>\n",
       "      <th>3</th>\n",
       "      <td>279 medical colleges</td>\n",
       "      <td>#57dbaa</td>\n",
       "      <td>1</td>\n",
       "    </tr>\n",
       "    <tr>\n",
       "      <th>4</th>\n",
       "      <td>37% had any health insurance coverage in 2018</td>\n",
       "      <td>#57dbaa</td>\n",
       "      <td>1</td>\n",
       "    </tr>\n",
       "    <tr>\n",
       "      <th>...</th>\n",
       "      <td>...</td>\n",
       "      <td>...</td>\n",
       "      <td>...</td>\n",
       "    </tr>\n",
       "    <tr>\n",
       "      <th>445</th>\n",
       "      <td>scale of such initiatives</td>\n",
       "      <td>#579bdb</td>\n",
       "      <td>7</td>\n",
       "    </tr>\n",
       "    <tr>\n",
       "      <th>446</th>\n",
       "      <td>supportive care in health facilities and homes</td>\n",
       "      <td>#579bdb</td>\n",
       "      <td>7</td>\n",
       "    </tr>\n",
       "    <tr>\n",
       "      <th>447</th>\n",
       "      <td>systemic integration pathways</td>\n",
       "      <td>#579bdb</td>\n",
       "      <td>7</td>\n",
       "    </tr>\n",
       "    <tr>\n",
       "      <th>448</th>\n",
       "      <td>three-year diploma course</td>\n",
       "      <td>#579bdb</td>\n",
       "      <td>7</td>\n",
       "    </tr>\n",
       "    <tr>\n",
       "      <th>449</th>\n",
       "      <td>undefined</td>\n",
       "      <td>#579bdb</td>\n",
       "      <td>7</td>\n",
       "    </tr>\n",
       "  </tbody>\n",
       "</table>\n",
       "<p>450 rows × 3 columns</p>\n",
       "</div>"
      ],
      "text/plain": [
       "                                               node    color  group\n",
       "0     0.576 physicians per 1,000 population in 2000  #57dbaa      1\n",
       "1       0.7 public hospital beds per 100,000 people  #57dbaa      1\n",
       "2                                     1% of the gdp  #57dbaa      1\n",
       "3                              279 medical colleges  #57dbaa      1\n",
       "4     37% had any health insurance coverage in 2018  #57dbaa      1\n",
       "..                                              ...      ...    ...\n",
       "445                       scale of such initiatives  #579bdb      7\n",
       "446  supportive care in health facilities and homes  #579bdb      7\n",
       "447                   systemic integration pathways  #579bdb      7\n",
       "448                       three-year diploma course  #579bdb      7\n",
       "449                                       undefined  #579bdb      7\n",
       "\n",
       "[450 rows x 3 columns]"
      ]
     },
     "execution_count": 12,
     "metadata": {},
     "output_type": "execute_result"
    }
   ],
   "source": [
    "import seaborn as sns\n",
    "palette = \"hls\"\n",
    "\n",
    "## Now add these colors to communities and make another dataframe\n",
    "def colors2Community(communities) -> pd.DataFrame:\n",
    "    ## Define a color palette\n",
    "    p = sns.color_palette(palette, len(communities)).as_hex()\n",
    "    random.shuffle(p)\n",
    "    rows = []\n",
    "    group = 0\n",
    "    for community in communities:\n",
    "        color = p.pop()\n",
    "        group += 1\n",
    "        for node in community:\n",
    "            rows += [{\"node\": node, \"color\": color, \"group\": group}]\n",
    "    df_colors = pd.DataFrame(rows)\n",
    "    return df_colors\n",
    "\n",
    "\n",
    "colors = colors2Community(communities)\n",
    "colors"
   ]
  },
  {
   "cell_type": "markdown",
   "metadata": {},
   "source": [
    "### Add colors to the graph"
   ]
  },
  {
   "cell_type": "code",
   "execution_count": 13,
   "metadata": {},
   "outputs": [],
   "source": [
    "for index, row in colors.iterrows():\n",
    "    G.nodes[row['node']]['group'] = row['group']\n",
    "    G.nodes[row['node']]['color'] = row['color']\n",
    "    G.nodes[row['node']]['size'] = G.degree[row['node']]"
   ]
  },
  {
   "cell_type": "code",
   "execution_count": 15,
   "metadata": {},
   "outputs": [
    {
     "name": "stdout",
     "output_type": "stream",
     "text": [
      "Defaulting to user installation because normal site-packages is not writeable\n",
      "Collecting pyvis\n",
      "  Downloading pyvis-0.3.2-py3-none-any.whl.metadata (1.7 kB)\n",
      "Requirement already satisfied: ipython>=5.3.0 in c:\\users\\trakh\\appdata\\local\\packages\\pythonsoftwarefoundation.python.3.13_qbz5n2kfra8p0\\localcache\\local-packages\\python313\\site-packages (from pyvis) (8.31.0)\n",
      "Requirement already satisfied: jinja2>=2.9.6 in c:\\users\\trakh\\appdata\\local\\packages\\pythonsoftwarefoundation.python.3.13_qbz5n2kfra8p0\\localcache\\local-packages\\python313\\site-packages (from pyvis) (3.1.6)\n",
      "Collecting jsonpickle>=1.4.1 (from pyvis)\n",
      "  Downloading jsonpickle-4.1.1-py3-none-any.whl.metadata (8.1 kB)\n",
      "Requirement already satisfied: networkx>=1.11 in c:\\users\\trakh\\appdata\\local\\packages\\pythonsoftwarefoundation.python.3.13_qbz5n2kfra8p0\\localcache\\local-packages\\python313\\site-packages (from pyvis) (3.5)\n",
      "Requirement already satisfied: colorama in c:\\users\\trakh\\appdata\\local\\packages\\pythonsoftwarefoundation.python.3.13_qbz5n2kfra8p0\\localcache\\local-packages\\python313\\site-packages (from ipython>=5.3.0->pyvis) (0.4.6)\n",
      "Requirement already satisfied: decorator in c:\\users\\trakh\\appdata\\local\\packages\\pythonsoftwarefoundation.python.3.13_qbz5n2kfra8p0\\localcache\\local-packages\\python313\\site-packages (from ipython>=5.3.0->pyvis) (5.1.1)\n",
      "Requirement already satisfied: jedi>=0.16 in c:\\users\\trakh\\appdata\\local\\packages\\pythonsoftwarefoundation.python.3.13_qbz5n2kfra8p0\\localcache\\local-packages\\python313\\site-packages (from ipython>=5.3.0->pyvis) (0.19.2)\n",
      "Requirement already satisfied: matplotlib-inline in c:\\users\\trakh\\appdata\\local\\packages\\pythonsoftwarefoundation.python.3.13_qbz5n2kfra8p0\\localcache\\local-packages\\python313\\site-packages (from ipython>=5.3.0->pyvis) (0.1.7)\n",
      "Requirement already satisfied: prompt_toolkit<3.1.0,>=3.0.41 in c:\\users\\trakh\\appdata\\local\\packages\\pythonsoftwarefoundation.python.3.13_qbz5n2kfra8p0\\localcache\\local-packages\\python313\\site-packages (from ipython>=5.3.0->pyvis) (3.0.48)\n",
      "Requirement already satisfied: pygments>=2.4.0 in c:\\users\\trakh\\appdata\\local\\packages\\pythonsoftwarefoundation.python.3.13_qbz5n2kfra8p0\\localcache\\local-packages\\python313\\site-packages (from ipython>=5.3.0->pyvis) (2.18.0)\n",
      "Requirement already satisfied: stack_data in c:\\users\\trakh\\appdata\\local\\packages\\pythonsoftwarefoundation.python.3.13_qbz5n2kfra8p0\\localcache\\local-packages\\python313\\site-packages (from ipython>=5.3.0->pyvis) (0.6.3)\n",
      "Requirement already satisfied: traitlets>=5.13.0 in c:\\users\\trakh\\appdata\\local\\packages\\pythonsoftwarefoundation.python.3.13_qbz5n2kfra8p0\\localcache\\local-packages\\python313\\site-packages (from ipython>=5.3.0->pyvis) (5.14.3)\n",
      "Requirement already satisfied: wcwidth in c:\\users\\trakh\\appdata\\local\\packages\\pythonsoftwarefoundation.python.3.13_qbz5n2kfra8p0\\localcache\\local-packages\\python313\\site-packages (from prompt_toolkit<3.1.0,>=3.0.41->ipython>=5.3.0->pyvis) (0.2.13)\n",
      "Requirement already satisfied: parso<0.9.0,>=0.8.4 in c:\\users\\trakh\\appdata\\local\\packages\\pythonsoftwarefoundation.python.3.13_qbz5n2kfra8p0\\localcache\\local-packages\\python313\\site-packages (from jedi>=0.16->ipython>=5.3.0->pyvis) (0.8.4)\n",
      "Requirement already satisfied: MarkupSafe>=2.0 in c:\\users\\trakh\\appdata\\local\\packages\\pythonsoftwarefoundation.python.3.13_qbz5n2kfra8p0\\localcache\\local-packages\\python313\\site-packages (from jinja2>=2.9.6->pyvis) (3.0.2)\n",
      "Requirement already satisfied: executing>=1.2.0 in c:\\users\\trakh\\appdata\\local\\packages\\pythonsoftwarefoundation.python.3.13_qbz5n2kfra8p0\\localcache\\local-packages\\python313\\site-packages (from stack_data->ipython>=5.3.0->pyvis) (2.1.0)\n",
      "Requirement already satisfied: asttokens>=2.1.0 in c:\\users\\trakh\\appdata\\local\\packages\\pythonsoftwarefoundation.python.3.13_qbz5n2kfra8p0\\localcache\\local-packages\\python313\\site-packages (from stack_data->ipython>=5.3.0->pyvis) (3.0.0)\n",
      "Requirement already satisfied: pure-eval in c:\\users\\trakh\\appdata\\local\\packages\\pythonsoftwarefoundation.python.3.13_qbz5n2kfra8p0\\localcache\\local-packages\\python313\\site-packages (from stack_data->ipython>=5.3.0->pyvis) (0.2.3)\n",
      "Downloading pyvis-0.3.2-py3-none-any.whl (756 kB)\n",
      "   ---------------------------------------- 0.0/756.0 kB ? eta -:--:--\n",
      "   --------------------------- ------------ 524.3/756.0 kB 3.1 MB/s eta 0:00:01\n",
      "   ---------------------------------------- 756.0/756.0 kB 3.1 MB/s eta 0:00:00\n",
      "Downloading jsonpickle-4.1.1-py3-none-any.whl (47 kB)\n",
      "Installing collected packages: jsonpickle, pyvis\n",
      "\n",
      "   ---------------------------------------- 0/2 [jsonpickle]\n",
      "   -------------------- ------------------- 1/2 [pyvis]\n",
      "   -------------------- ------------------- 1/2 [pyvis]\n",
      "   -------------------- ------------------- 1/2 [pyvis]\n",
      "   -------------------- ------------------- 1/2 [pyvis]\n",
      "   -------------------- ------------------- 1/2 [pyvis]\n",
      "   -------------------- ------------------- 1/2 [pyvis]\n",
      "   -------------------- ------------------- 1/2 [pyvis]\n",
      "   ---------------------------------------- 2/2 [pyvis]\n",
      "\n",
      "Successfully installed jsonpickle-4.1.1 pyvis-0.3.2\n"
     ]
    }
   ],
   "source": [
    "!pip install pyvis"
   ]
  },
  {
   "cell_type": "code",
   "execution_count": 18,
   "metadata": {},
   "outputs": [
    {
     "name": "stdout",
     "output_type": "stream",
     "text": [
      "./docs/index.html\n"
     ]
    }
   ],
   "source": [
    "import os\n",
    "os.makedirs('./docs', exist_ok=True)\n",
    "from pyvis.network import Network\n",
    "\n",
    "graph_output_directory = \"./docs/index.html\"\n",
    "\n",
    "net = Network(\n",
    "    notebook=False,\n",
    "    # bgcolor=\"#1a1a1a\",\n",
    "    cdn_resources=\"remote\",\n",
    "    height=\"900px\",\n",
    "    width=\"100%\",\n",
    "    select_menu=True,\n",
    "    # font_color=\"#cccccc\",\n",
    "    filter_menu=False,\n",
    ")\n",
    "\n",
    "net.from_nx(G)\n",
    "# net.repulsion(node_distance=150, spring_length=400)\n",
    "net.force_atlas_2based(central_gravity=0.015, gravity=-31)\n",
    "# net.barnes_hut(gravity=-18100, central_gravity=5.05, spring_length=380)\n",
    "net.show_buttons(filter_=[\"physics\"])\n",
    "\n",
    "net.show(graph_output_directory, notebook=False)"
   ]
  },
  {
   "cell_type": "code",
   "execution_count": null,
   "metadata": {},
   "outputs": [],
   "source": []
  }
 ],
 "metadata": {
  "kernelspec": {
   "display_name": "Python 3",
   "language": "python",
   "name": "python3"
  },
  "language_info": {
   "codemirror_mode": {
    "name": "ipython",
    "version": 3
   },
   "file_extension": ".py",
   "mimetype": "text/x-python",
   "name": "python",
   "nbconvert_exporter": "python",
   "pygments_lexer": "ipython3",
   "version": "3.13.5"
  }
 },
 "nbformat": 4,
 "nbformat_minor": 2
}
