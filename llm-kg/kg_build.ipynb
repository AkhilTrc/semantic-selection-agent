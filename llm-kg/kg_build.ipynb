{
 "cells": [
  {
   "cell_type": "code",
   "execution_count": 4,
   "metadata": {},
   "outputs": [],
   "source": [
    "scientific_facts = [\n",
    "    \"Isaac Newton discovered gravity.\",\n",
    "    \"Gravity is a fundamental force in physics.\",\n",
    "    \"Albert Einstein developed the theory of relativity.\",\n",
    "    \"The theory of relativity explains gravity at cosmic scales.\",\n",
    "    \"Marie Curie discovered radium.\",\n",
    "    \"Radium is a radioactive element.\"\n",
    "]"
   ]
  },
  {
   "cell_type": "code",
   "execution_count": 5,
   "metadata": {},
   "outputs": [],
   "source": [
    "import ollama \n",
    "\n",
    "def extract_triples(text):\n",
    "    model_name = 'llama3.1:8b'\n",
    "    # model_name = 'deepseek-r1:8b'\n",
    "\n",
    "    print(f'LLM model used: {model_name}')\n",
    "    # prompt = f\"Answer the following question based on the article:\\n\\n{context}\\n\\nQuestion: {query}\\nAnswer:\"\n",
    "    prompt = prompt = (\n",
    "            \"Extract the subject, relation, and object from the following sentence as a triple:\\n\"\n",
    "            f\"Sentence: {text}\\n\"\n",
    "            \"Triple:\"\n",
    "        )\n",
    "    messages=[\n",
    "        {\n",
    "            'role' : 'user',\n",
    "            'content' : prompt,\n",
    "            \"parameters\": {\"max_new_tokens\":1000, \"temperature\":0.1},\n",
    "        },\n",
    "    ]\n",
    "    response = ollama.chat(\n",
    "        model=model_name, \n",
    "        messages=messages,\n",
    "    )\n",
    "\n",
    "    OllamaResponse = response['message']['content'] \n",
    "    triple = OllamaResponse.strip()\n",
    "    return tuple(map(str.strip, triple.split(',')))"
   ]
  },
  {
   "cell_type": "code",
   "execution_count": 12,
   "metadata": {},
   "outputs": [],
   "source": [
    "def extract_triples_openai(text):\n",
    "    prompt = (\n",
    "        \"Extract the subject, relation, and object from the following sentence as a triple:\\n\"\n",
    "        f\"Sentence: {text}\\n\"\n",
    "        \"Triple:\"\n",
    "    )\n",
    "    response = openai.Completion.create(\n",
    "        engine=\"text-davinci-003\",\n",
    "        prompt=prompt,\n",
    "        max_tokens=60,\n",
    "        temperature=0\n",
    "    )\n",
    "    triple = response.choices[0].text.strip()\n",
    "    # Example output: \"Isaac Newton, discovered, gravity\"\n",
    "    return tuple(map(str.strip, triple.split(',')))"
   ]
  },
  {
   "cell_type": "code",
   "execution_count": 8,
   "metadata": {},
   "outputs": [
    {
     "name": "stdout",
     "output_type": "stream",
     "text": [
      "LLM model used: llama3.1:8b\n",
      "Could not extract triple from: Isaac Newton discovered gravity. -- not enough values to unpack (expected 3, got 1)\n",
      "LLM model used: llama3.1:8b\n",
      "Could not extract triple from: Gravity is a fundamental force in physics. -- not enough values to unpack (expected 3, got 1)\n",
      "LLM model used: llama3.1:8b\n",
      "Could not extract triple from: Albert Einstein developed the theory of relativity. -- not enough values to unpack (expected 3, got 1)\n",
      "LLM model used: llama3.1:8b\n",
      "Could not extract triple from: The theory of relativity explains gravity at cosmic scales. -- not enough values to unpack (expected 3, got 1)\n",
      "LLM model used: llama3.1:8b\n",
      "Could not extract triple from: Marie Curie discovered radium. -- not enough values to unpack (expected 3, got 1)\n",
      "LLM model used: llama3.1:8b\n",
      "Could not extract triple from: Radium is a radioactive element. -- not enough values to unpack (expected 3, got 1)\n",
      "Nodes: []\n",
      "Edges:\n"
     ]
    }
   ],
   "source": [
    "import networkx as nx\n",
    "\n",
    "kg = nx.MultiDiGraph()  # Use MultiDiGraph to allow multiple edges between nodes\n",
    "\n",
    "for fact in scientific_facts:\n",
    "    try:\n",
    "        subj, rel, obj = extract_triples(fact)\n",
    "        kg.add_edge(subj, obj, label=rel)\n",
    "    except Exception as e:\n",
    "        print(f\"Could not extract triple from: {fact} -- {e}\")\n",
    "\n",
    "print(\"Nodes:\", list(kg.nodes))\n",
    "print(\"Edges:\")\n",
    "for u, v, data in kg.edges(data=True):\n",
    "    print((u, v, data))"
   ]
  },
  {
   "cell_type": "code",
   "execution_count": null,
   "metadata": {},
   "outputs": [],
   "source": [
    "import matplotlib.pyplot as plt\n",
    "\n",
    "G = nx.petersen_graph()\n",
    "\n",
    "subax1 = plt.subplot(121)\n",
    "nx.draw(G, with_labels=True, font_weight='bold')\n",
    "subax2 = plt.subplot(122)\n",
    "nx.draw_shell(G, kg, with_labels=True, font_weight='bold')"
   ]
  }
 ],
 "metadata": {
  "kernelspec": {
   "display_name": "cuda-env",
   "language": "python",
   "name": "python3"
  },
  "language_info": {
   "codemirror_mode": {
    "name": "ipython",
    "version": 3
   },
   "file_extension": ".py",
   "mimetype": "text/x-python",
   "name": "python",
   "nbconvert_exporter": "python",
   "pygments_lexer": "ipython3",
   "version": "3.12.3"
  }
 },
 "nbformat": 4,
 "nbformat_minor": 2
}
